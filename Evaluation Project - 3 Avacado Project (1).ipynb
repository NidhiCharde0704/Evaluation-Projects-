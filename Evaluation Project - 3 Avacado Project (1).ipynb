{
 "cells": [
  {
   "cell_type": "code",
   "execution_count": 1,
   "metadata": {},
   "outputs": [],
   "source": [
    "import pandas as pd\n",
    "import numpy as np"
   ]
  },
  {
   "cell_type": "code",
   "execution_count": 2,
   "metadata": {},
   "outputs": [
    {
     "data": {
      "text/html": [
       "<div>\n",
       "<style scoped>\n",
       "    .dataframe tbody tr th:only-of-type {\n",
       "        vertical-align: middle;\n",
       "    }\n",
       "\n",
       "    .dataframe tbody tr th {\n",
       "        vertical-align: top;\n",
       "    }\n",
       "\n",
       "    .dataframe thead th {\n",
       "        text-align: right;\n",
       "    }\n",
       "</style>\n",
       "<table border=\"1\" class=\"dataframe\">\n",
       "  <thead>\n",
       "    <tr style=\"text-align: right;\">\n",
       "      <th></th>\n",
       "      <th>Unnamed: 0</th>\n",
       "      <th>Date</th>\n",
       "      <th>AveragePrice</th>\n",
       "      <th>Total Volume</th>\n",
       "      <th>4046</th>\n",
       "      <th>4225</th>\n",
       "      <th>4770</th>\n",
       "      <th>Total Bags</th>\n",
       "      <th>Small Bags</th>\n",
       "      <th>Large Bags</th>\n",
       "      <th>XLarge Bags</th>\n",
       "      <th>type</th>\n",
       "      <th>year</th>\n",
       "      <th>region</th>\n",
       "    </tr>\n",
       "  </thead>\n",
       "  <tbody>\n",
       "    <tr>\n",
       "      <th>0</th>\n",
       "      <td>0</td>\n",
       "      <td>2015-12-27</td>\n",
       "      <td>1.33</td>\n",
       "      <td>64236.62</td>\n",
       "      <td>1036.74</td>\n",
       "      <td>54454.85</td>\n",
       "      <td>48.16</td>\n",
       "      <td>8696.87</td>\n",
       "      <td>8603.62</td>\n",
       "      <td>93.25</td>\n",
       "      <td>0.0</td>\n",
       "      <td>conventional</td>\n",
       "      <td>2015</td>\n",
       "      <td>Albany</td>\n",
       "    </tr>\n",
       "    <tr>\n",
       "      <th>1</th>\n",
       "      <td>1</td>\n",
       "      <td>2015-12-20</td>\n",
       "      <td>1.35</td>\n",
       "      <td>54876.98</td>\n",
       "      <td>674.28</td>\n",
       "      <td>44638.81</td>\n",
       "      <td>58.33</td>\n",
       "      <td>9505.56</td>\n",
       "      <td>9408.07</td>\n",
       "      <td>97.49</td>\n",
       "      <td>0.0</td>\n",
       "      <td>conventional</td>\n",
       "      <td>2015</td>\n",
       "      <td>Albany</td>\n",
       "    </tr>\n",
       "    <tr>\n",
       "      <th>2</th>\n",
       "      <td>2</td>\n",
       "      <td>2015-12-13</td>\n",
       "      <td>0.93</td>\n",
       "      <td>118220.22</td>\n",
       "      <td>794.70</td>\n",
       "      <td>109149.67</td>\n",
       "      <td>130.50</td>\n",
       "      <td>8145.35</td>\n",
       "      <td>8042.21</td>\n",
       "      <td>103.14</td>\n",
       "      <td>0.0</td>\n",
       "      <td>conventional</td>\n",
       "      <td>2015</td>\n",
       "      <td>Albany</td>\n",
       "    </tr>\n",
       "    <tr>\n",
       "      <th>3</th>\n",
       "      <td>3</td>\n",
       "      <td>2015-12-06</td>\n",
       "      <td>1.08</td>\n",
       "      <td>78992.15</td>\n",
       "      <td>1132.00</td>\n",
       "      <td>71976.41</td>\n",
       "      <td>72.58</td>\n",
       "      <td>5811.16</td>\n",
       "      <td>5677.40</td>\n",
       "      <td>133.76</td>\n",
       "      <td>0.0</td>\n",
       "      <td>conventional</td>\n",
       "      <td>2015</td>\n",
       "      <td>Albany</td>\n",
       "    </tr>\n",
       "    <tr>\n",
       "      <th>4</th>\n",
       "      <td>4</td>\n",
       "      <td>2015-11-29</td>\n",
       "      <td>1.28</td>\n",
       "      <td>51039.60</td>\n",
       "      <td>941.48</td>\n",
       "      <td>43838.39</td>\n",
       "      <td>75.78</td>\n",
       "      <td>6183.95</td>\n",
       "      <td>5986.26</td>\n",
       "      <td>197.69</td>\n",
       "      <td>0.0</td>\n",
       "      <td>conventional</td>\n",
       "      <td>2015</td>\n",
       "      <td>Albany</td>\n",
       "    </tr>\n",
       "    <tr>\n",
       "      <th>...</th>\n",
       "      <td>...</td>\n",
       "      <td>...</td>\n",
       "      <td>...</td>\n",
       "      <td>...</td>\n",
       "      <td>...</td>\n",
       "      <td>...</td>\n",
       "      <td>...</td>\n",
       "      <td>...</td>\n",
       "      <td>...</td>\n",
       "      <td>...</td>\n",
       "      <td>...</td>\n",
       "      <td>...</td>\n",
       "      <td>...</td>\n",
       "      <td>...</td>\n",
       "    </tr>\n",
       "    <tr>\n",
       "      <th>18244</th>\n",
       "      <td>7</td>\n",
       "      <td>2018-02-04</td>\n",
       "      <td>1.63</td>\n",
       "      <td>17074.83</td>\n",
       "      <td>2046.96</td>\n",
       "      <td>1529.20</td>\n",
       "      <td>0.00</td>\n",
       "      <td>13498.67</td>\n",
       "      <td>13066.82</td>\n",
       "      <td>431.85</td>\n",
       "      <td>0.0</td>\n",
       "      <td>organic</td>\n",
       "      <td>2018</td>\n",
       "      <td>WestTexNewMexico</td>\n",
       "    </tr>\n",
       "    <tr>\n",
       "      <th>18245</th>\n",
       "      <td>8</td>\n",
       "      <td>2018-01-28</td>\n",
       "      <td>1.71</td>\n",
       "      <td>13888.04</td>\n",
       "      <td>1191.70</td>\n",
       "      <td>3431.50</td>\n",
       "      <td>0.00</td>\n",
       "      <td>9264.84</td>\n",
       "      <td>8940.04</td>\n",
       "      <td>324.80</td>\n",
       "      <td>0.0</td>\n",
       "      <td>organic</td>\n",
       "      <td>2018</td>\n",
       "      <td>WestTexNewMexico</td>\n",
       "    </tr>\n",
       "    <tr>\n",
       "      <th>18246</th>\n",
       "      <td>9</td>\n",
       "      <td>2018-01-21</td>\n",
       "      <td>1.87</td>\n",
       "      <td>13766.76</td>\n",
       "      <td>1191.92</td>\n",
       "      <td>2452.79</td>\n",
       "      <td>727.94</td>\n",
       "      <td>9394.11</td>\n",
       "      <td>9351.80</td>\n",
       "      <td>42.31</td>\n",
       "      <td>0.0</td>\n",
       "      <td>organic</td>\n",
       "      <td>2018</td>\n",
       "      <td>WestTexNewMexico</td>\n",
       "    </tr>\n",
       "    <tr>\n",
       "      <th>18247</th>\n",
       "      <td>10</td>\n",
       "      <td>2018-01-14</td>\n",
       "      <td>1.93</td>\n",
       "      <td>16205.22</td>\n",
       "      <td>1527.63</td>\n",
       "      <td>2981.04</td>\n",
       "      <td>727.01</td>\n",
       "      <td>10969.54</td>\n",
       "      <td>10919.54</td>\n",
       "      <td>50.00</td>\n",
       "      <td>0.0</td>\n",
       "      <td>organic</td>\n",
       "      <td>2018</td>\n",
       "      <td>WestTexNewMexico</td>\n",
       "    </tr>\n",
       "    <tr>\n",
       "      <th>18248</th>\n",
       "      <td>11</td>\n",
       "      <td>2018-01-07</td>\n",
       "      <td>1.62</td>\n",
       "      <td>17489.58</td>\n",
       "      <td>2894.77</td>\n",
       "      <td>2356.13</td>\n",
       "      <td>224.53</td>\n",
       "      <td>12014.15</td>\n",
       "      <td>11988.14</td>\n",
       "      <td>26.01</td>\n",
       "      <td>0.0</td>\n",
       "      <td>organic</td>\n",
       "      <td>2018</td>\n",
       "      <td>WestTexNewMexico</td>\n",
       "    </tr>\n",
       "  </tbody>\n",
       "</table>\n",
       "<p>18249 rows × 14 columns</p>\n",
       "</div>"
      ],
      "text/plain": [
       "       Unnamed: 0        Date  AveragePrice  Total Volume     4046       4225  \\\n",
       "0               0  2015-12-27          1.33      64236.62  1036.74   54454.85   \n",
       "1               1  2015-12-20          1.35      54876.98   674.28   44638.81   \n",
       "2               2  2015-12-13          0.93     118220.22   794.70  109149.67   \n",
       "3               3  2015-12-06          1.08      78992.15  1132.00   71976.41   \n",
       "4               4  2015-11-29          1.28      51039.60   941.48   43838.39   \n",
       "...           ...         ...           ...           ...      ...        ...   \n",
       "18244           7  2018-02-04          1.63      17074.83  2046.96    1529.20   \n",
       "18245           8  2018-01-28          1.71      13888.04  1191.70    3431.50   \n",
       "18246           9  2018-01-21          1.87      13766.76  1191.92    2452.79   \n",
       "18247          10  2018-01-14          1.93      16205.22  1527.63    2981.04   \n",
       "18248          11  2018-01-07          1.62      17489.58  2894.77    2356.13   \n",
       "\n",
       "         4770  Total Bags  Small Bags  Large Bags  XLarge Bags          type  \\\n",
       "0       48.16     8696.87     8603.62       93.25          0.0  conventional   \n",
       "1       58.33     9505.56     9408.07       97.49          0.0  conventional   \n",
       "2      130.50     8145.35     8042.21      103.14          0.0  conventional   \n",
       "3       72.58     5811.16     5677.40      133.76          0.0  conventional   \n",
       "4       75.78     6183.95     5986.26      197.69          0.0  conventional   \n",
       "...       ...         ...         ...         ...          ...           ...   \n",
       "18244    0.00    13498.67    13066.82      431.85          0.0       organic   \n",
       "18245    0.00     9264.84     8940.04      324.80          0.0       organic   \n",
       "18246  727.94     9394.11     9351.80       42.31          0.0       organic   \n",
       "18247  727.01    10969.54    10919.54       50.00          0.0       organic   \n",
       "18248  224.53    12014.15    11988.14       26.01          0.0       organic   \n",
       "\n",
       "       year            region  \n",
       "0      2015            Albany  \n",
       "1      2015            Albany  \n",
       "2      2015            Albany  \n",
       "3      2015            Albany  \n",
       "4      2015            Albany  \n",
       "...     ...               ...  \n",
       "18244  2018  WestTexNewMexico  \n",
       "18245  2018  WestTexNewMexico  \n",
       "18246  2018  WestTexNewMexico  \n",
       "18247  2018  WestTexNewMexico  \n",
       "18248  2018  WestTexNewMexico  \n",
       "\n",
       "[18249 rows x 14 columns]"
      ]
     },
     "execution_count": 2,
     "metadata": {},
     "output_type": "execute_result"
    }
   ],
   "source": [
    "df=pd.read_csv('avocado.csv')\n",
    "df"
   ]
  },
  {
   "cell_type": "code",
   "execution_count": 3,
   "metadata": {},
   "outputs": [
    {
     "name": "stdout",
     "output_type": "stream",
     "text": [
      "<class 'pandas.core.frame.DataFrame'>\n",
      "RangeIndex: 18249 entries, 0 to 18248\n",
      "Data columns (total 14 columns):\n",
      " #   Column        Non-Null Count  Dtype  \n",
      "---  ------        --------------  -----  \n",
      " 0   Unnamed: 0    18249 non-null  int64  \n",
      " 1   Date          18249 non-null  object \n",
      " 2   AveragePrice  18249 non-null  float64\n",
      " 3   Total Volume  18249 non-null  float64\n",
      " 4   4046          18249 non-null  float64\n",
      " 5   4225          18249 non-null  float64\n",
      " 6   4770          18249 non-null  float64\n",
      " 7   Total Bags    18249 non-null  float64\n",
      " 8   Small Bags    18249 non-null  float64\n",
      " 9   Large Bags    18249 non-null  float64\n",
      " 10  XLarge Bags   18249 non-null  float64\n",
      " 11  type          18249 non-null  object \n",
      " 12  year          18249 non-null  int64  \n",
      " 13  region        18249 non-null  object \n",
      "dtypes: float64(9), int64(2), object(3)\n",
      "memory usage: 1.9+ MB\n"
     ]
    }
   ],
   "source": [
    "df.info()"
   ]
  },
  {
   "cell_type": "code",
   "execution_count": 4,
   "metadata": {},
   "outputs": [
    {
     "data": {
      "text/plain": [
       "Unnamed: 0      0\n",
       "Date            0\n",
       "AveragePrice    0\n",
       "Total Volume    0\n",
       "4046            0\n",
       "4225            0\n",
       "4770            0\n",
       "Total Bags      0\n",
       "Small Bags      0\n",
       "Large Bags      0\n",
       "XLarge Bags     0\n",
       "type            0\n",
       "year            0\n",
       "region          0\n",
       "dtype: int64"
      ]
     },
     "execution_count": 4,
     "metadata": {},
     "output_type": "execute_result"
    }
   ],
   "source": [
    "df.isnull().sum()"
   ]
  },
  {
   "cell_type": "markdown",
   "metadata": {},
   "source": [
    "No any Null data present in dataset"
   ]
  },
  {
   "cell_type": "code",
   "execution_count": 5,
   "metadata": {},
   "outputs": [
    {
     "data": {
      "text/plain": [
       "0"
      ]
     },
     "execution_count": 5,
     "metadata": {},
     "output_type": "execute_result"
    }
   ],
   "source": [
    "df.duplicated().sum()"
   ]
  },
  {
   "cell_type": "markdown",
   "metadata": {},
   "source": [
    "No any Data are Duplicated"
   ]
  },
  {
   "cell_type": "code",
   "execution_count": 6,
   "metadata": {},
   "outputs": [
    {
     "name": "stdout",
     "output_type": "stream",
     "text": [
      "No.Of Numeric Features Are: 11\n"
     ]
    },
    {
     "data": {
      "text/plain": [
       "['Unnamed: 0',\n",
       " 'AveragePrice',\n",
       " 'Total Volume',\n",
       " '4046',\n",
       " '4225',\n",
       " '4770',\n",
       " 'Total Bags',\n",
       " 'Small Bags',\n",
       " 'Large Bags',\n",
       " 'XLarge Bags',\n",
       " 'year']"
      ]
     },
     "execution_count": 6,
     "metadata": {},
     "output_type": "execute_result"
    }
   ],
   "source": [
    "numeric_features=[features for features in df.columns if df[features].dtype!='O']\n",
    "\n",
    "print('No.Of Numeric Features Are:',len(numeric_features))\n",
    "numeric_features"
   ]
  },
  {
   "cell_type": "code",
   "execution_count": 7,
   "metadata": {},
   "outputs": [
    {
     "name": "stdout",
     "output_type": "stream",
     "text": [
      "No Of Categorical Features 3\n"
     ]
    },
    {
     "data": {
      "text/plain": [
       "['Date', 'type', 'region']"
      ]
     },
     "execution_count": 7,
     "metadata": {},
     "output_type": "execute_result"
    }
   ],
   "source": [
    "categorical_features=[features for features in df.columns if df[features].dtype == 'O']\n",
    "print(\"No Of Categorical Features\",len(categorical_features))\n",
    "categorical_features"
   ]
  },
  {
   "cell_type": "code",
   "execution_count": 8,
   "metadata": {},
   "outputs": [
    {
     "data": {
      "text/plain": [
       "['year']"
      ]
     },
     "execution_count": 8,
     "metadata": {},
     "output_type": "execute_result"
    }
   ],
   "source": [
    "year_features=[features for features in numeric_features if 'year' in features]\n",
    "year_features"
   ]
  },
  {
   "cell_type": "code",
   "execution_count": 9,
   "metadata": {},
   "outputs": [
    {
     "data": {
      "text/plain": [
       "[]"
      ]
     },
     "execution_count": 9,
     "metadata": {},
     "output_type": "execute_result"
    }
   ],
   "source": [
    "discrete_features=[features for features in numeric_features if len(df[features].unique())<25 and features not in year_features]\n",
    "discrete_features"
   ]
  },
  {
   "cell_type": "code",
   "execution_count": 10,
   "metadata": {},
   "outputs": [
    {
     "data": {
      "text/plain": [
       "['Unnamed: 0',\n",
       " 'AveragePrice',\n",
       " 'Total Volume',\n",
       " '4046',\n",
       " '4225',\n",
       " '4770',\n",
       " 'Total Bags',\n",
       " 'Small Bags',\n",
       " 'Large Bags',\n",
       " 'XLarge Bags']"
      ]
     },
     "execution_count": 10,
     "metadata": {},
     "output_type": "execute_result"
    }
   ],
   "source": [
    "continue_features=[feature for feature in numeric_features if feature not in discrete_features+year_features]\n",
    "continue_features"
   ]
  },
  {
   "cell_type": "markdown",
   "metadata": {},
   "source": [
    "# Visualisation"
   ]
  },
  {
   "cell_type": "code",
   "execution_count": 11,
   "metadata": {},
   "outputs": [],
   "source": [
    "import seaborn as sns\n",
    "import matplotlib.pyplot as plt\n",
    "import warnings\n",
    "warnings.filterwarnings('ignore')"
   ]
  },
  {
   "cell_type": "code",
   "execution_count": 12,
   "metadata": {},
   "outputs": [
    {
     "data": {
      "image/png": "[encoded data removed]",
      "text/plain": [
       "<Figure size 432x288 with 1 Axes>"
      ]
     },
     "metadata": {
      "needs_background": "light"
     },
     "output_type": "display_data"
    },
    {
     "data": {
      "image/png": "[encoded data removed]",
      "text/plain": [
       "<Figure size 432x288 with 1 Axes>"
      ]
     },
     "metadata": {
      "needs_background": "light"
     },
     "output_type": "display_data"
    },
    {
     "data": {
      "image/png": "[encoded data removed]",
      "text/plain": [
       "<Figure size 432x288 with 1 Axes>"
      ]
     },
     "metadata": {
      "needs_background": "light"
     },
     "output_type": "display_data"
    },
    {
     "data": {
      "image/png": "[encoded data removed]",
      "text/plain": [
       "<Figure size 432x288 with 1 Axes>"
      ]
     },
     "metadata": {
      "needs_background": "light"
     },
     "output_type": "display_data"
    },
    {
     "data": {
      "image/png": "[encoded data removed]",
      "text/plain": [
       "<Figure size 432x288 with 1 Axes>"
      ]
     },
     "metadata": {
      "needs_background": "light"
     },
     "output_type": "display_data"
    },
    {
     "data": {
      "image/png": "[encoded data removed]",
      "text/plain": [
       "<Figure size 432x288 with 1 Axes>"
      ]
     },
     "metadata": {
      "needs_background": "light"
     },
     "output_type": "display_data"
    },
    {
     "data": {
      "image/png": "[encoded data removed]",
      "text/plain": [
       "<Figure size 432x288 with 1 Axes>"
      ]
     },
     "metadata": {
      "needs_background": "light"
     },
     "output_type": "display_data"
    },
    {
     "data": {
      "image/png": "[encoded data removed]",
      "text/plain": [
       "<Figure size 432x288 with 1 Axes>"
      ]
     },
     "metadata": {
      "needs_background": "light"
     },
     "output_type": "display_data"
    },
    {
     "data": {
      "image/png": "[encoded data removed]",
      "text/plain": [
       "<Figure size 432x288 with 1 Axes>"
      ]
     },
     "metadata": {
      "needs_background": "light"
     },
     "output_type": "display_data"
    },
    {
     "data": {
      "image/png": "[encoded data removed]",
      "text/plain": [
       "<Figure size 432x288 with 1 Axes>"
      ]
     },
     "metadata": {
      "needs_background": "light"
     },
     "output_type": "display_data"
    },
    {
     "data": {
      "image/png": "[encoded data removed]",
      "text/plain": [
       "<Figure size 432x288 with 1 Axes>"
      ]
     },
     "metadata": {
      "needs_background": "light"
     },
     "output_type": "display_data"
    }
   ],
   "source": [
    "for i in numeric_features:\n",
    "    plt.figure()\n",
    "    sns.distplot(df[i],color='green')"
   ]
  },
  {
   "cell_type": "markdown",
   "metadata": {},
   "source": [
    "From above chart we clearly say that from year 2016 to 2017 price increases and after 2017 prices down."
   ]
  },
  {
   "cell_type": "code",
   "execution_count": 13,
   "metadata": {},
   "outputs": [
    {
     "name": "stdout",
     "output_type": "stream",
     "text": [
      "Number Of Each Type\n",
      " conventional    9126\n",
      "organic         9123\n",
      "Name: type, dtype: int64\n"
     ]
    },
    {
     "data": {
      "text/plain": [
       "<AxesSubplot:title={'center':'Count Of Each Type Avacado'}, xlabel='type', ylabel='count'>"
      ]
     },
     "execution_count": 13,
     "metadata": {},
     "output_type": "execute_result"
    },
    {
     "data": {
      "image/png": "[encoded data removed]",
      "text/plain": [
       "<Figure size 432x288 with 1 Axes>"
      ]
     },
     "metadata": {
      "needs_background": "light"
     },
     "output_type": "display_data"
    }
   ],
   "source": [
    "print(\"Number Of Each Type\\n\",df['type'].value_counts())\n",
    "plt.title('Count Of Each Type Avacado')\n",
    "sns.countplot(df['type'])"
   ]
  },
  {
   "cell_type": "code",
   "execution_count": 14,
   "metadata": {},
   "outputs": [
    {
     "data": {
      "text/plain": [
       "<AxesSubplot:title={'center':'Price Of  Type Of Avacado'}, xlabel='type', ylabel='AveragePrice'>"
      ]
     },
     "execution_count": 14,
     "metadata": {},
     "output_type": "execute_result"
    },
    {
     "data": {
      "image/png": "[encoded data removed]",
      "text/plain": [
       "<Figure size 432x288 with 1 Axes>"
      ]
     },
     "metadata": {
      "needs_background": "light"
     },
     "output_type": "display_data"
    }
   ],
   "source": [
    "plt.title('Price Of  Type Of Avacado')\n",
    "sns.stripplot(x='type',y='AveragePrice',data=df)"
   ]
  },
  {
   "cell_type": "markdown",
   "metadata": {},
   "source": [
    "From this chart we can say Organic having higher price as compair to conventional."
   ]
  },
  {
   "cell_type": "code",
   "execution_count": 15,
   "metadata": {},
   "outputs": [
    {
     "data": {
      "text/plain": [
       "Text(0.5, 1.0, 'Type vs Total Volume')"
      ]
     },
     "execution_count": 15,
     "metadata": {},
     "output_type": "execute_result"
    },
    {
     "data": {
      "image/png": "[encoded data removed]",
      "text/plain": [
       "<Figure size 432x288 with 1 Axes>"
      ]
     },
     "metadata": {
      "needs_background": "light"
     },
     "output_type": "display_data"
    }
   ],
   "source": [
    "sns.stripplot(x='type',y='Total Volume',data=df)\n",
    "plt.title('Type vs Total Volume')"
   ]
  },
  {
   "cell_type": "markdown",
   "metadata": {},
   "source": [
    "this chaart clearly show that conventional having high volume as compair to organic"
   ]
  },
  {
   "cell_type": "code",
   "execution_count": 16,
   "metadata": {},
   "outputs": [
    {
     "data": {
      "text/plain": [
       "<AxesSubplot:title={'center':'AVERAGE PRICE PER YEAR'}, xlabel='year', ylabel='AveragePrice'>"
      ]
     },
     "execution_count": 16,
     "metadata": {},
     "output_type": "execute_result"
    },
    {
     "data": {
      "image/png": "[encoded data removed]",
      "text/plain": [
       "<Figure size 432x288 with 1 Axes>"
      ]
     },
     "metadata": {
      "needs_background": "light"
     },
     "output_type": "display_data"
    }
   ],
   "source": [
    "plt.title(\"AVERAGE PRICE PER YEAR\")\n",
    "sns.stripplot(x='year',y='AveragePrice',data=df,hue='type',color='red')"
   ]
  },
  {
   "cell_type": "markdown",
   "metadata": {},
   "source": [
    "Year 2016-17 is full Expensive and 2018 is Chipest."
   ]
  },
  {
   "cell_type": "code",
   "execution_count": 17,
   "metadata": {},
   "outputs": [
    {
     "data": {
      "text/plain": [
       "<AxesSubplot:title={'center':'AVACADO PRICE IN EACH REGION'}, xlabel='region', ylabel='AveragePrice'>"
      ]
     },
     "execution_count": 17,
     "metadata": {},
     "output_type": "execute_result"
    },
    {
     "data": {
      "image/png": "[encoded data removed]",
      "text/plain": [
       "<Figure size 792x432 with 1 Axes>"
      ]
     },
     "metadata": {
      "needs_background": "light"
     },
     "output_type": "display_data"
    }
   ],
   "source": [
    "plt.figure(figsize=(11,6))\n",
    "plt.title('AVACADO PRICE IN EACH REGION')\n",
    "plt.xlabel('Region')\n",
    "sns.boxplot(y=df['AveragePrice'],x=df['region'],data=df,width=1,whis=2)"
   ]
  },
  {
   "cell_type": "markdown",
   "metadata": {},
   "source": [
    "From this price vs Region we can see that chicago is the chepest to sell Avacado and San Fransciso is most expencive city to sell."
   ]
  },
  {
   "cell_type": "code",
   "execution_count": 18,
   "metadata": {},
   "outputs": [
    {
     "data": {
      "text/plain": [
       "<AxesSubplot:xlabel='Total Volume', ylabel='region'>"
      ]
     },
     "execution_count": 18,
     "metadata": {},
     "output_type": "execute_result"
    },
    {
     "data": {
      "image/png": "[encoded data removed]",
      "text/plain": [
       "<Figure size 576x1080 with 1 Axes>"
      ]
     },
     "metadata": {
      "needs_background": "light"
     },
     "output_type": "display_data"
    }
   ],
   "source": [
    "plt.figure(figsize=(8,15))\n",
    "sns.stripplot(x='Total Volume',y='region',data=df)"
   ]
  },
  {
   "cell_type": "markdown",
   "metadata": {},
   "source": [
    "this chart indicates some region like Northeast,Midsouth,LosAngeles,GreatLeaks,California having high volume."
   ]
  },
  {
   "cell_type": "code",
   "execution_count": 19,
   "metadata": {},
   "outputs": [
    {
     "data": {
      "text/plain": [
       "Boston                 338\n",
       "Sacramento             338\n",
       "NewYork                338\n",
       "TotalUS                338\n",
       "Denver                 338\n",
       "Spokane                338\n",
       "BuffaloRochester       338\n",
       "Northeast              338\n",
       "Jacksonville           338\n",
       "California             338\n",
       "SanFrancisco           338\n",
       "DallasFtWorth          338\n",
       "NewOrleansMobile       338\n",
       "StLouis                338\n",
       "Nashville              338\n",
       "HarrisburgScranton     338\n",
       "MiamiFtLauderdale      338\n",
       "Syracuse               338\n",
       "Chicago                338\n",
       "BaltimoreWashington    338\n",
       "Detroit                338\n",
       "Midsouth               338\n",
       "Plains                 338\n",
       "SouthCentral           338\n",
       "SanDiego               338\n",
       "Louisville             338\n",
       "LasVegas               338\n",
       "LosAngeles             338\n",
       "Columbus               338\n",
       "Portland               338\n",
       "Seattle                338\n",
       "GrandRapids            338\n",
       "Southeast              338\n",
       "Boise                  338\n",
       "RaleighGreensboro      338\n",
       "NorthernNewEngland     338\n",
       "Tampa                  338\n",
       "HartfordSpringfield    338\n",
       "Albany                 338\n",
       "PhoenixTucson          338\n",
       "Charlotte              338\n",
       "West                   338\n",
       "Philadelphia           338\n",
       "Houston                338\n",
       "GreatLakes             338\n",
       "Pittsburgh             338\n",
       "CincinnatiDayton       338\n",
       "RichmondNorfolk        338\n",
       "Roanoke                338\n",
       "SouthCarolina          338\n",
       "Indianapolis           338\n",
       "Atlanta                338\n",
       "Orlando                338\n",
       "WestTexNewMexico       335\n",
       "Name: region, dtype: int64"
      ]
     },
     "execution_count": 19,
     "metadata": {},
     "output_type": "execute_result"
    }
   ],
   "source": [
    "df['region'].value_counts()"
   ]
  },
  {
   "cell_type": "code",
   "execution_count": 20,
   "metadata": {},
   "outputs": [
    {
     "data": {
      "text/plain": [
       "Text(0.5, 1.0, 'Type Average Price in Each Region')"
      ]
     },
     "execution_count": 20,
     "metadata": {},
     "output_type": "execute_result"
    },
    {
     "data": {
      "image/png": "[encoded data removed]",
      "text/plain": [
       "<Figure size 864x1440 with 1 Axes>"
      ]
     },
     "metadata": {
      "needs_background": "light"
     },
     "output_type": "display_data"
    }
   ],
   "source": [
    "plt.figure(figsize=(12,20))\n",
    "sns.set_style('whitegrid')\n",
    "sns.pointplot(x='AveragePrice', y='region', data=df, hue='type',join=False)\n",
    "plt.title(\"Type Average Price in Each Region\",{'fontsize':20})"
   ]
  },
  {
   "cell_type": "code",
   "execution_count": 21,
   "metadata": {},
   "outputs": [
    {
     "data": {
      "text/plain": [
       "<AxesSubplot:xlabel='Date', ylabel='AveragePrice'>"
      ]
     },
     "execution_count": 21,
     "metadata": {},
     "output_type": "execute_result"
    },
    {
     "data": {
      "image/png": "[encoded data removed]",
      "text/plain": [
       "<Figure size 432x288 with 1 Axes>"
      ]
     },
     "metadata": {},
     "output_type": "display_data"
    }
   ],
   "source": [
    "sns.lineplot(x='Date',y='AveragePrice',data=df)"
   ]
  },
  {
   "cell_type": "markdown",
   "metadata": {},
   "source": [
    "As Price of Avacado is fluctuate is means Avacado's price is increases for some month and decreases in some month."
   ]
  },
  {
   "cell_type": "code",
   "execution_count": 22,
   "metadata": {},
   "outputs": [
    {
     "data": {
      "image/png": "[encoded data removed]",
      "text/plain": [
       "<Figure size 432x288 with 1 Axes>"
      ]
     },
     "metadata": {},
     "output_type": "display_data"
    }
   ],
   "source": [
    "df['month'] = pd.DatetimeIndex(df['Date']).month\n",
    "interval=(0,3,6,9,12)\n",
    "categories=('Spring','Summer','Fall','Winter')\n",
    "df['month']=pd.cut(df.month,interval,labels=categories)\n",
    "ax=sns.countplot(x=df['month'],data=df)"
   ]
  },
  {
   "cell_type": "markdown",
   "metadata": {},
   "source": [
    "We see that In Spring Season Volume Increses."
   ]
  },
  {
   "cell_type": "markdown",
   "metadata": {},
   "source": [
    "# Label Encoding"
   ]
  },
  {
   "cell_type": "code",
   "execution_count": 23,
   "metadata": {},
   "outputs": [],
   "source": [
    "from sklearn.preprocessing import LabelEncoder"
   ]
  },
  {
   "cell_type": "code",
   "execution_count": 24,
   "metadata": {},
   "outputs": [],
   "source": [
    "lb=LabelEncoder()"
   ]
  },
  {
   "cell_type": "code",
   "execution_count": 25,
   "metadata": {},
   "outputs": [],
   "source": [
    "for i in categorical_features:\n",
    "    df[i]=lb.fit_transform(df[i])"
   ]
  },
  {
   "cell_type": "code",
   "execution_count": 26,
   "metadata": {},
   "outputs": [],
   "source": [
    "df['month']=lb.fit_transform(df['month'])"
   ]
  },
  {
   "cell_type": "code",
   "execution_count": 27,
   "metadata": {},
   "outputs": [
    {
     "data": {
      "text/html": [
       "<div>\n",
       "<style scoped>\n",
       "    .dataframe tbody tr th:only-of-type {\n",
       "        vertical-align: middle;\n",
       "    }\n",
       "\n",
       "    .dataframe tbody tr th {\n",
       "        vertical-align: top;\n",
       "    }\n",
       "\n",
       "    .dataframe thead th {\n",
       "        text-align: right;\n",
       "    }\n",
       "</style>\n",
       "<table border=\"1\" class=\"dataframe\">\n",
       "  <thead>\n",
       "    <tr style=\"text-align: right;\">\n",
       "      <th></th>\n",
       "      <th>Unnamed: 0</th>\n",
       "      <th>Date</th>\n",
       "      <th>AveragePrice</th>\n",
       "      <th>Total Volume</th>\n",
       "      <th>4046</th>\n",
       "      <th>4225</th>\n",
       "      <th>4770</th>\n",
       "      <th>Total Bags</th>\n",
       "      <th>Small Bags</th>\n",
       "      <th>Large Bags</th>\n",
       "      <th>XLarge Bags</th>\n",
       "      <th>type</th>\n",
       "      <th>year</th>\n",
       "      <th>region</th>\n",
       "      <th>month</th>\n",
       "    </tr>\n",
       "  </thead>\n",
       "  <tbody>\n",
       "    <tr>\n",
       "      <th>0</th>\n",
       "      <td>0</td>\n",
       "      <td>51</td>\n",
       "      <td>1.33</td>\n",
       "      <td>64236.62</td>\n",
       "      <td>1036.74</td>\n",
       "      <td>54454.85</td>\n",
       "      <td>48.16</td>\n",
       "      <td>8696.87</td>\n",
       "      <td>8603.62</td>\n",
       "      <td>93.25</td>\n",
       "      <td>0.0</td>\n",
       "      <td>0</td>\n",
       "      <td>2015</td>\n",
       "      <td>0</td>\n",
       "      <td>3</td>\n",
       "    </tr>\n",
       "    <tr>\n",
       "      <th>1</th>\n",
       "      <td>1</td>\n",
       "      <td>50</td>\n",
       "      <td>1.35</td>\n",
       "      <td>54876.98</td>\n",
       "      <td>674.28</td>\n",
       "      <td>44638.81</td>\n",
       "      <td>58.33</td>\n",
       "      <td>9505.56</td>\n",
       "      <td>9408.07</td>\n",
       "      <td>97.49</td>\n",
       "      <td>0.0</td>\n",
       "      <td>0</td>\n",
       "      <td>2015</td>\n",
       "      <td>0</td>\n",
       "      <td>3</td>\n",
       "    </tr>\n",
       "    <tr>\n",
       "      <th>2</th>\n",
       "      <td>2</td>\n",
       "      <td>49</td>\n",
       "      <td>0.93</td>\n",
       "      <td>118220.22</td>\n",
       "      <td>794.70</td>\n",
       "      <td>109149.67</td>\n",
       "      <td>130.50</td>\n",
       "      <td>8145.35</td>\n",
       "      <td>8042.21</td>\n",
       "      <td>103.14</td>\n",
       "      <td>0.0</td>\n",
       "      <td>0</td>\n",
       "      <td>2015</td>\n",
       "      <td>0</td>\n",
       "      <td>3</td>\n",
       "    </tr>\n",
       "    <tr>\n",
       "      <th>3</th>\n",
       "      <td>3</td>\n",
       "      <td>48</td>\n",
       "      <td>1.08</td>\n",
       "      <td>78992.15</td>\n",
       "      <td>1132.00</td>\n",
       "      <td>71976.41</td>\n",
       "      <td>72.58</td>\n",
       "      <td>5811.16</td>\n",
       "      <td>5677.40</td>\n",
       "      <td>133.76</td>\n",
       "      <td>0.0</td>\n",
       "      <td>0</td>\n",
       "      <td>2015</td>\n",
       "      <td>0</td>\n",
       "      <td>3</td>\n",
       "    </tr>\n",
       "    <tr>\n",
       "      <th>4</th>\n",
       "      <td>4</td>\n",
       "      <td>47</td>\n",
       "      <td>1.28</td>\n",
       "      <td>51039.60</td>\n",
       "      <td>941.48</td>\n",
       "      <td>43838.39</td>\n",
       "      <td>75.78</td>\n",
       "      <td>6183.95</td>\n",
       "      <td>5986.26</td>\n",
       "      <td>197.69</td>\n",
       "      <td>0.0</td>\n",
       "      <td>0</td>\n",
       "      <td>2015</td>\n",
       "      <td>0</td>\n",
       "      <td>3</td>\n",
       "    </tr>\n",
       "    <tr>\n",
       "      <th>...</th>\n",
       "      <td>...</td>\n",
       "      <td>...</td>\n",
       "      <td>...</td>\n",
       "      <td>...</td>\n",
       "      <td>...</td>\n",
       "      <td>...</td>\n",
       "      <td>...</td>\n",
       "      <td>...</td>\n",
       "      <td>...</td>\n",
       "      <td>...</td>\n",
       "      <td>...</td>\n",
       "      <td>...</td>\n",
       "      <td>...</td>\n",
       "      <td>...</td>\n",
       "      <td>...</td>\n",
       "    </tr>\n",
       "    <tr>\n",
       "      <th>18244</th>\n",
       "      <td>7</td>\n",
       "      <td>161</td>\n",
       "      <td>1.63</td>\n",
       "      <td>17074.83</td>\n",
       "      <td>2046.96</td>\n",
       "      <td>1529.20</td>\n",
       "      <td>0.00</td>\n",
       "      <td>13498.67</td>\n",
       "      <td>13066.82</td>\n",
       "      <td>431.85</td>\n",
       "      <td>0.0</td>\n",
       "      <td>1</td>\n",
       "      <td>2018</td>\n",
       "      <td>53</td>\n",
       "      <td>1</td>\n",
       "    </tr>\n",
       "    <tr>\n",
       "      <th>18245</th>\n",
       "      <td>8</td>\n",
       "      <td>160</td>\n",
       "      <td>1.71</td>\n",
       "      <td>13888.04</td>\n",
       "      <td>1191.70</td>\n",
       "      <td>3431.50</td>\n",
       "      <td>0.00</td>\n",
       "      <td>9264.84</td>\n",
       "      <td>8940.04</td>\n",
       "      <td>324.80</td>\n",
       "      <td>0.0</td>\n",
       "      <td>1</td>\n",
       "      <td>2018</td>\n",
       "      <td>53</td>\n",
       "      <td>1</td>\n",
       "    </tr>\n",
       "    <tr>\n",
       "      <th>18246</th>\n",
       "      <td>9</td>\n",
       "      <td>159</td>\n",
       "      <td>1.87</td>\n",
       "      <td>13766.76</td>\n",
       "      <td>1191.92</td>\n",
       "      <td>2452.79</td>\n",
       "      <td>727.94</td>\n",
       "      <td>9394.11</td>\n",
       "      <td>9351.80</td>\n",
       "      <td>42.31</td>\n",
       "      <td>0.0</td>\n",
       "      <td>1</td>\n",
       "      <td>2018</td>\n",
       "      <td>53</td>\n",
       "      <td>1</td>\n",
       "    </tr>\n",
       "    <tr>\n",
       "      <th>18247</th>\n",
       "      <td>10</td>\n",
       "      <td>158</td>\n",
       "      <td>1.93</td>\n",
       "      <td>16205.22</td>\n",
       "      <td>1527.63</td>\n",
       "      <td>2981.04</td>\n",
       "      <td>727.01</td>\n",
       "      <td>10969.54</td>\n",
       "      <td>10919.54</td>\n",
       "      <td>50.00</td>\n",
       "      <td>0.0</td>\n",
       "      <td>1</td>\n",
       "      <td>2018</td>\n",
       "      <td>53</td>\n",
       "      <td>1</td>\n",
       "    </tr>\n",
       "    <tr>\n",
       "      <th>18248</th>\n",
       "      <td>11</td>\n",
       "      <td>157</td>\n",
       "      <td>1.62</td>\n",
       "      <td>17489.58</td>\n",
       "      <td>2894.77</td>\n",
       "      <td>2356.13</td>\n",
       "      <td>224.53</td>\n",
       "      <td>12014.15</td>\n",
       "      <td>11988.14</td>\n",
       "      <td>26.01</td>\n",
       "      <td>0.0</td>\n",
       "      <td>1</td>\n",
       "      <td>2018</td>\n",
       "      <td>53</td>\n",
       "      <td>1</td>\n",
       "    </tr>\n",
       "  </tbody>\n",
       "</table>\n",
       "<p>18249 rows × 15 columns</p>\n",
       "</div>"
      ],
      "text/plain": [
       "       Unnamed: 0  Date  AveragePrice  Total Volume     4046       4225  \\\n",
       "0               0    51          1.33      64236.62  1036.74   54454.85   \n",
       "1               1    50          1.35      54876.98   674.28   44638.81   \n",
       "2               2    49          0.93     118220.22   794.70  109149.67   \n",
       "3               3    48          1.08      78992.15  1132.00   71976.41   \n",
       "4               4    47          1.28      51039.60   941.48   43838.39   \n",
       "...           ...   ...           ...           ...      ...        ...   \n",
       "18244           7   161          1.63      17074.83  2046.96    1529.20   \n",
       "18245           8   160          1.71      13888.04  1191.70    3431.50   \n",
       "18246           9   159          1.87      13766.76  1191.92    2452.79   \n",
       "18247          10   158          1.93      16205.22  1527.63    2981.04   \n",
       "18248          11   157          1.62      17489.58  2894.77    2356.13   \n",
       "\n",
       "         4770  Total Bags  Small Bags  Large Bags  XLarge Bags  type  year  \\\n",
       "0       48.16     8696.87     8603.62       93.25          0.0     0  2015   \n",
       "1       58.33     9505.56     9408.07       97.49          0.0     0  2015   \n",
       "2      130.50     8145.35     8042.21      103.14          0.0     0  2015   \n",
       "3       72.58     5811.16     5677.40      133.76          0.0     0  2015   \n",
       "4       75.78     6183.95     5986.26      197.69          0.0     0  2015   \n",
       "...       ...         ...         ...         ...          ...   ...   ...   \n",
       "18244    0.00    13498.67    13066.82      431.85          0.0     1  2018   \n",
       "18245    0.00     9264.84     8940.04      324.80          0.0     1  2018   \n",
       "18246  727.94     9394.11     9351.80       42.31          0.0     1  2018   \n",
       "18247  727.01    10969.54    10919.54       50.00          0.0     1  2018   \n",
       "18248  224.53    12014.15    11988.14       26.01          0.0     1  2018   \n",
       "\n",
       "       region  month  \n",
       "0           0      3  \n",
       "1           0      3  \n",
       "2           0      3  \n",
       "3           0      3  \n",
       "4           0      3  \n",
       "...       ...    ...  \n",
       "18244      53      1  \n",
       "18245      53      1  \n",
       "18246      53      1  \n",
       "18247      53      1  \n",
       "18248      53      1  \n",
       "\n",
       "[18249 rows x 15 columns]"
      ]
     },
     "execution_count": 27,
     "metadata": {},
     "output_type": "execute_result"
    }
   ],
   "source": [
    "df"
   ]
  },
  {
   "cell_type": "code",
   "execution_count": 28,
   "metadata": {},
   "outputs": [
    {
     "data": {
      "image/png": "[encoded data removed]",
      "text/plain": [
       "<Figure size 432x288 with 1 Axes>"
      ]
     },
     "metadata": {},
     "output_type": "display_data"
    },
    {
     "data": {
      "image/png": "[encoded data removed]",
      "text/plain": [
       "<Figure size 432x288 with 1 Axes>"
      ]
     },
     "metadata": {},
     "output_type": "display_data"
    },
    {
     "data": {
      "image/png": "[encoded data removed]",
      "text/plain": [
       "<Figure size 432x288 with 1 Axes>"
      ]
     },
     "metadata": {},
     "output_type": "display_data"
    },
    {
     "data": {
      "image/png": "[encoded data removed]",
      "text/plain": [
       "<Figure size 432x288 with 1 Axes>"
      ]
     },
     "metadata": {},
     "output_type": "display_data"
    },
    {
     "data": {
      "image/png": "[encoded data removed]",
      "text/plain": [
       "<Figure size 432x288 with 1 Axes>"
      ]
     },
     "metadata": {},
     "output_type": "display_data"
    },
    {
     "data": {
      "image/png": "[encoded data removed]",
      "text/plain": [
       "<Figure size 432x288 with 1 Axes>"
      ]
     },
     "metadata": {},
     "output_type": "display_data"
    },
    {
     "data": {
      "image/png": "[encoded data removed]",
      "text/plain": [
       "<Figure size 432x288 with 1 Axes>"
      ]
     },
     "metadata": {},
     "output_type": "display_data"
    },
    {
     "data": {
      "image/png": "[encoded data removed]",
      "text/plain": [
       "<Figure size 432x288 with 1 Axes>"
      ]
     },
     "metadata": {},
     "output_type": "display_data"
    },
    {
     "data": {
      "image/png": "[encoded data removed]",
      "text/plain": [
       "<Figure size 432x288 with 1 Axes>"
      ]
     },
     "metadata": {},
     "output_type": "display_data"
    },
    {
     "data": {
      "image/png": "[encoded data removed]",
      "text/plain": [
       "<Figure size 432x288 with 1 Axes>"
      ]
     },
     "metadata": {},
     "output_type": "display_data"
    }
   ],
   "source": [
    "for features in continue_features:\n",
    "    data=df.copy()\n",
    "    data[features]=np.log(data[features])\n",
    "    plt.figure()\n",
    "    sns.boxplot(features,data=data,color='blue')"
   ]
  },
  {
   "cell_type": "markdown",
   "metadata": {},
   "source": [
    "# Statastical"
   ]
  },
  {
   "cell_type": "code",
   "execution_count": 153,
   "metadata": {},
   "outputs": [
    {
     "data": {
      "text/html": [
       "<div>\n",
       "<style scoped>\n",
       "    .dataframe tbody tr th:only-of-type {\n",
       "        vertical-align: middle;\n",
       "    }\n",
       "\n",
       "    .dataframe tbody tr th {\n",
       "        vertical-align: top;\n",
       "    }\n",
       "\n",
       "    .dataframe thead th {\n",
       "        text-align: right;\n",
       "    }\n",
       "</style>\n",
       "<table border=\"1\" class=\"dataframe\">\n",
       "  <thead>\n",
       "    <tr style=\"text-align: right;\">\n",
       "      <th></th>\n",
       "      <th>Unnamed: 0</th>\n",
       "      <th>Date</th>\n",
       "      <th>AveragePrice</th>\n",
       "      <th>4046</th>\n",
       "      <th>4225</th>\n",
       "      <th>4770</th>\n",
       "      <th>Small Bags</th>\n",
       "      <th>Large Bags</th>\n",
       "      <th>XLarge Bags</th>\n",
       "      <th>type</th>\n",
       "      <th>year</th>\n",
       "      <th>region</th>\n",
       "      <th>month</th>\n",
       "    </tr>\n",
       "  </thead>\n",
       "  <tbody>\n",
       "    <tr>\n",
       "      <th>count</th>\n",
       "      <td>17651.000000</td>\n",
       "      <td>17651.000000</td>\n",
       "      <td>17651.000000</td>\n",
       "      <td>17651.000000</td>\n",
       "      <td>17651.000000</td>\n",
       "      <td>17651.000000</td>\n",
       "      <td>17651.000000</td>\n",
       "      <td>17651.000000</td>\n",
       "      <td>17651.000000</td>\n",
       "      <td>17651.000000</td>\n",
       "      <td>17651.000000</td>\n",
       "      <td>17651.000000</td>\n",
       "      <td>17651.000000</td>\n",
       "    </tr>\n",
       "    <tr>\n",
       "      <th>mean</th>\n",
       "      <td>24.254150</td>\n",
       "      <td>83.471361</td>\n",
       "      <td>1.405363</td>\n",
       "      <td>228.363724</td>\n",
       "      <td>265.295646</td>\n",
       "      <td>54.089370</td>\n",
       "      <td>217.303485</td>\n",
       "      <td>100.850691</td>\n",
       "      <td>14.415974</td>\n",
       "      <td>0.509433</td>\n",
       "      <td>2016.137669</td>\n",
       "      <td>26.103110</td>\n",
       "      <td>1.475101</td>\n",
       "    </tr>\n",
       "    <tr>\n",
       "      <th>std</th>\n",
       "      <td>15.505207</td>\n",
       "      <td>48.834451</td>\n",
       "      <td>0.385793</td>\n",
       "      <td>320.155262</td>\n",
       "      <td>308.584769</td>\n",
       "      <td>90.748912</td>\n",
       "      <td>231.107247</td>\n",
       "      <td>132.892679</td>\n",
       "      <td>33.905701</td>\n",
       "      <td>0.499925</td>\n",
       "      <td>0.940239</td>\n",
       "      <td>15.396005</td>\n",
       "      <td>1.088331</td>\n",
       "    </tr>\n",
       "    <tr>\n",
       "      <th>min</th>\n",
       "      <td>0.000000</td>\n",
       "      <td>0.000000</td>\n",
       "      <td>0.440000</td>\n",
       "      <td>0.000000</td>\n",
       "      <td>0.000000</td>\n",
       "      <td>0.000000</td>\n",
       "      <td>0.000000</td>\n",
       "      <td>0.000000</td>\n",
       "      <td>0.000000</td>\n",
       "      <td>0.000000</td>\n",
       "      <td>2015.000000</td>\n",
       "      <td>0.000000</td>\n",
       "      <td>0.000000</td>\n",
       "    </tr>\n",
       "    <tr>\n",
       "      <th>25%</th>\n",
       "      <td>10.000000</td>\n",
       "      <td>41.000000</td>\n",
       "      <td>1.110000</td>\n",
       "      <td>28.669234</td>\n",
       "      <td>53.756302</td>\n",
       "      <td>0.000000</td>\n",
       "      <td>52.406247</td>\n",
       "      <td>10.614140</td>\n",
       "      <td>0.000000</td>\n",
       "      <td>0.000000</td>\n",
       "      <td>2015.000000</td>\n",
       "      <td>13.000000</td>\n",
       "      <td>1.000000</td>\n",
       "    </tr>\n",
       "    <tr>\n",
       "      <th>50%</th>\n",
       "      <td>24.000000</td>\n",
       "      <td>83.000000</td>\n",
       "      <td>1.380000</td>\n",
       "      <td>88.234007</td>\n",
       "      <td>163.412913</td>\n",
       "      <td>12.804687</td>\n",
       "      <td>156.657493</td>\n",
       "      <td>49.483937</td>\n",
       "      <td>0.000000</td>\n",
       "      <td>1.000000</td>\n",
       "      <td>2016.000000</td>\n",
       "      <td>26.000000</td>\n",
       "      <td>1.000000</td>\n",
       "    </tr>\n",
       "    <tr>\n",
       "      <th>75%</th>\n",
       "      <td>38.000000</td>\n",
       "      <td>126.000000</td>\n",
       "      <td>1.660000</td>\n",
       "      <td>313.695592</td>\n",
       "      <td>358.889828</td>\n",
       "      <td>72.695250</td>\n",
       "      <td>279.981803</td>\n",
       "      <td>138.163850</td>\n",
       "      <td>8.583122</td>\n",
       "      <td>1.000000</td>\n",
       "      <td>2017.000000</td>\n",
       "      <td>39.000000</td>\n",
       "      <td>2.000000</td>\n",
       "    </tr>\n",
       "    <tr>\n",
       "      <th>max</th>\n",
       "      <td>52.000000</td>\n",
       "      <td>168.000000</td>\n",
       "      <td>2.610000</td>\n",
       "      <td>2021.350732</td>\n",
       "      <td>1973.525186</td>\n",
       "      <td>586.931436</td>\n",
       "      <td>1532.601559</td>\n",
       "      <td>883.995074</td>\n",
       "      <td>236.517082</td>\n",
       "      <td>1.000000</td>\n",
       "      <td>2018.000000</td>\n",
       "      <td>53.000000</td>\n",
       "      <td>3.000000</td>\n",
       "    </tr>\n",
       "  </tbody>\n",
       "</table>\n",
       "</div>"
      ],
      "text/plain": [
       "         Unnamed: 0          Date  AveragePrice          4046          4225  \\\n",
       "count  17651.000000  17651.000000  17651.000000  17651.000000  17651.000000   \n",
       "mean      24.254150     83.471361      1.405363    228.363724    265.295646   \n",
       "std       15.505207     48.834451      0.385793    320.155262    308.584769   \n",
       "min        0.000000      0.000000      0.440000      0.000000      0.000000   \n",
       "25%       10.000000     41.000000      1.110000     28.669234     53.756302   \n",
       "50%       24.000000     83.000000      1.380000     88.234007    163.412913   \n",
       "75%       38.000000    126.000000      1.660000    313.695592    358.889828   \n",
       "max       52.000000    168.000000      2.610000   2021.350732   1973.525186   \n",
       "\n",
       "               4770    Small Bags    Large Bags   XLarge Bags          type  \\\n",
       "count  17651.000000  17651.000000  17651.000000  17651.000000  17651.000000   \n",
       "mean      54.089370    217.303485    100.850691     14.415974      0.509433   \n",
       "std       90.748912    231.107247    132.892679     33.905701      0.499925   \n",
       "min        0.000000      0.000000      0.000000      0.000000      0.000000   \n",
       "25%        0.000000     52.406247     10.614140      0.000000      0.000000   \n",
       "50%       12.804687    156.657493     49.483937      0.000000      1.000000   \n",
       "75%       72.695250    279.981803    138.163850      8.583122      1.000000   \n",
       "max      586.931436   1532.601559    883.995074    236.517082      1.000000   \n",
       "\n",
       "               year        region         month  \n",
       "count  17651.000000  17651.000000  17651.000000  \n",
       "mean    2016.137669     26.103110      1.475101  \n",
       "std        0.940239     15.396005      1.088331  \n",
       "min     2015.000000      0.000000      0.000000  \n",
       "25%     2015.000000     13.000000      1.000000  \n",
       "50%     2016.000000     26.000000      1.000000  \n",
       "75%     2017.000000     39.000000      2.000000  \n",
       "max     2018.000000     53.000000      3.000000  "
      ]
     },
     "execution_count": 153,
     "metadata": {},
     "output_type": "execute_result"
    }
   ],
   "source": [
    "df.describe()"
   ]
  },
  {
   "cell_type": "markdown",
   "metadata": {},
   "source": [
    "From the Statastic We get the 25%,75% and min and max of all features.we get the idea of mean also."
   ]
  },
  {
   "cell_type": "code",
   "execution_count": 30,
   "metadata": {},
   "outputs": [
    {
     "data": {
      "text/plain": [
       "<AxesSubplot:>"
      ]
     },
     "execution_count": 30,
     "metadata": {},
     "output_type": "execute_result"
    },
    {
     "data": {
      "image/png": "[encoded data removed]",
      "text/plain": [
       "<Figure size 1080x864 with 2 Axes>"
      ]
     },
     "metadata": {},
     "output_type": "display_data"
    }
   ],
   "source": [
    "% corr=df.corr()\n",
    "corr\n",
    "plt.figure(figsize=(15,12))\n",
    "sns.heatmap(data=corr,annot=True)"
   ]
  },
  {
   "cell_type": "markdown",
   "metadata": {},
   "source": [
    "there are multi colinearity present in dataset so we have to check it by VIF and remove it."
   ]
  },
  {
   "cell_type": "markdown",
   "metadata": {},
   "source": [
    "# VIF"
   ]
  },
  {
   "cell_type": "code",
   "execution_count": 32,
   "metadata": {},
   "outputs": [],
   "source": [
    "from statsmodels.stats.outliers_influence import variance_inflation_factor"
   ]
  },
  {
   "cell_type": "code",
   "execution_count": 33,
   "metadata": {},
   "outputs": [],
   "source": [
    "def valcal():\n",
    "    vif=pd.DataFrame()\n",
    "    vif['vif factor']=[variance_inflation_factor(df.values,i) for i in range(df.shape[1])]\n",
    "    vif['features']=df.columns\n",
    "    print(vif)"
   ]
  },
  {
   "cell_type": "code",
   "execution_count": 34,
   "metadata": {},
   "outputs": [
    {
     "name": "stdout",
     "output_type": "stream",
     "text": [
      "      vif factor      features\n",
      "0   4.790122e+00    Unnamed: 0\n",
      "1   5.152013e+00          Date\n",
      "2   2.304473e+01  AveragePrice\n",
      "3   5.230276e+09  Total Volume\n",
      "4   6.970780e+08          4046\n",
      "5   6.354666e+08          4225\n",
      "6   4.990439e+06          4770\n",
      "7   2.502000e+14    Total Bags\n",
      "8   1.429714e+14    Small Bags\n",
      "9   1.521486e+13    Large Bags\n",
      "10  7.857011e+10   XLarge Bags\n",
      "11  3.408048e+00          type\n",
      "12  3.449279e+01          year\n",
      "13  4.162541e+00        region\n",
      "14  3.231251e+00         month\n"
     ]
    }
   ],
   "source": [
    "valcal()"
   ]
  },
  {
   "cell_type": "markdown",
   "metadata": {},
   "source": [
    "# Data Cleaning"
   ]
  },
  {
   "cell_type": "code",
   "execution_count": 35,
   "metadata": {},
   "outputs": [
    {
     "data": {
      "text/plain": [
       "Unnamed: 0       0.108334\n",
       "Date             0.000117\n",
       "AveragePrice     0.580303\n",
       "Total Volume     9.007687\n",
       "4046             8.648220\n",
       "4225             8.942466\n",
       "4770            10.159396\n",
       "Total Bags       9.756072\n",
       "Small Bags       9.540660\n",
       "Large Bags       9.796455\n",
       "XLarge Bags     13.139751\n",
       "type             0.000329\n",
       "year             0.215339\n",
       "region           0.000030\n",
       "month            0.082273\n",
       "dtype: float64"
      ]
     },
     "execution_count": 35,
     "metadata": {},
     "output_type": "execute_result"
    }
   ],
   "source": [
    "df.skew()"
   ]
  },
  {
   "cell_type": "code",
   "execution_count": 36,
   "metadata": {},
   "outputs": [],
   "source": [
    "clean=pd.DataFrame()"
   ]
  },
  {
   "cell_type": "code",
   "execution_count": 152,
   "metadata": {},
   "outputs": [
    {
     "data": {
      "text/html": [
       "<div>\n",
       "<style scoped>\n",
       "    .dataframe tbody tr th:only-of-type {\n",
       "        vertical-align: middle;\n",
       "    }\n",
       "\n",
       "    .dataframe tbody tr th {\n",
       "        vertical-align: top;\n",
       "    }\n",
       "\n",
       "    .dataframe thead th {\n",
       "        text-align: right;\n",
       "    }\n",
       "</style>\n",
       "<table border=\"1\" class=\"dataframe\">\n",
       "  <thead>\n",
       "    <tr style=\"text-align: right;\">\n",
       "      <th></th>\n",
       "      <th>columns</th>\n",
       "      <th>vif</th>\n",
       "      <th>skewness</th>\n",
       "      <th>outliers</th>\n",
       "    </tr>\n",
       "  </thead>\n",
       "  <tbody>\n",
       "    <tr>\n",
       "      <th>0</th>\n",
       "      <td>total volumn</td>\n",
       "      <td>5.23</td>\n",
       "      <td>9.00</td>\n",
       "      <td>more</td>\n",
       "    </tr>\n",
       "    <tr>\n",
       "      <th>1</th>\n",
       "      <td>total bags</td>\n",
       "      <td>2.35</td>\n",
       "      <td>9.57</td>\n",
       "      <td>more</td>\n",
       "    </tr>\n",
       "  </tbody>\n",
       "</table>\n",
       "</div>"
      ],
      "text/plain": [
       "        columns   vif skewness outliers\n",
       "0  total volumn  5.23     9.00     more\n",
       "1    total bags  2.35     9.57     more"
      ]
     },
     "execution_count": 152,
     "metadata": {},
     "output_type": "execute_result"
    }
   ],
   "source": [
    "clean['columns']=['total volumn','total bags']\n",
    "clean['vif']=['5.23','2.35']\n",
    "clean['skewness']=['9.00','9.57']\n",
    "clean['outliers']=['more','more']\n",
    "clean"
   ]
  },
  {
   "cell_type": "markdown",
   "metadata": {},
   "source": [
    "From above we can drop both column"
   ]
  },
  {
   "cell_type": "code",
   "execution_count": 38,
   "metadata": {},
   "outputs": [],
   "source": [
    "df.drop(['Total Bags','Total Volume'],axis=1,inplace=True)"
   ]
  },
  {
   "cell_type": "code",
   "execution_count": 39,
   "metadata": {},
   "outputs": [
    {
     "data": {
      "text/html": [
       "<div>\n",
       "<style scoped>\n",
       "    .dataframe tbody tr th:only-of-type {\n",
       "        vertical-align: middle;\n",
       "    }\n",
       "\n",
       "    .dataframe tbody tr th {\n",
       "        vertical-align: top;\n",
       "    }\n",
       "\n",
       "    .dataframe thead th {\n",
       "        text-align: right;\n",
       "    }\n",
       "</style>\n",
       "<table border=\"1\" class=\"dataframe\">\n",
       "  <thead>\n",
       "    <tr style=\"text-align: right;\">\n",
       "      <th></th>\n",
       "      <th>Unnamed: 0</th>\n",
       "      <th>Date</th>\n",
       "      <th>AveragePrice</th>\n",
       "      <th>4046</th>\n",
       "      <th>4225</th>\n",
       "      <th>4770</th>\n",
       "      <th>Small Bags</th>\n",
       "      <th>Large Bags</th>\n",
       "      <th>XLarge Bags</th>\n",
       "      <th>type</th>\n",
       "      <th>year</th>\n",
       "      <th>region</th>\n",
       "      <th>month</th>\n",
       "    </tr>\n",
       "  </thead>\n",
       "  <tbody>\n",
       "    <tr>\n",
       "      <th>0</th>\n",
       "      <td>0</td>\n",
       "      <td>51</td>\n",
       "      <td>1.33</td>\n",
       "      <td>1036.74</td>\n",
       "      <td>54454.85</td>\n",
       "      <td>48.16</td>\n",
       "      <td>8603.62</td>\n",
       "      <td>93.25</td>\n",
       "      <td>0.0</td>\n",
       "      <td>0</td>\n",
       "      <td>2015</td>\n",
       "      <td>0</td>\n",
       "      <td>3</td>\n",
       "    </tr>\n",
       "    <tr>\n",
       "      <th>1</th>\n",
       "      <td>1</td>\n",
       "      <td>50</td>\n",
       "      <td>1.35</td>\n",
       "      <td>674.28</td>\n",
       "      <td>44638.81</td>\n",
       "      <td>58.33</td>\n",
       "      <td>9408.07</td>\n",
       "      <td>97.49</td>\n",
       "      <td>0.0</td>\n",
       "      <td>0</td>\n",
       "      <td>2015</td>\n",
       "      <td>0</td>\n",
       "      <td>3</td>\n",
       "    </tr>\n",
       "    <tr>\n",
       "      <th>2</th>\n",
       "      <td>2</td>\n",
       "      <td>49</td>\n",
       "      <td>0.93</td>\n",
       "      <td>794.70</td>\n",
       "      <td>109149.67</td>\n",
       "      <td>130.50</td>\n",
       "      <td>8042.21</td>\n",
       "      <td>103.14</td>\n",
       "      <td>0.0</td>\n",
       "      <td>0</td>\n",
       "      <td>2015</td>\n",
       "      <td>0</td>\n",
       "      <td>3</td>\n",
       "    </tr>\n",
       "    <tr>\n",
       "      <th>3</th>\n",
       "      <td>3</td>\n",
       "      <td>48</td>\n",
       "      <td>1.08</td>\n",
       "      <td>1132.00</td>\n",
       "      <td>71976.41</td>\n",
       "      <td>72.58</td>\n",
       "      <td>5677.40</td>\n",
       "      <td>133.76</td>\n",
       "      <td>0.0</td>\n",
       "      <td>0</td>\n",
       "      <td>2015</td>\n",
       "      <td>0</td>\n",
       "      <td>3</td>\n",
       "    </tr>\n",
       "    <tr>\n",
       "      <th>4</th>\n",
       "      <td>4</td>\n",
       "      <td>47</td>\n",
       "      <td>1.28</td>\n",
       "      <td>941.48</td>\n",
       "      <td>43838.39</td>\n",
       "      <td>75.78</td>\n",
       "      <td>5986.26</td>\n",
       "      <td>197.69</td>\n",
       "      <td>0.0</td>\n",
       "      <td>0</td>\n",
       "      <td>2015</td>\n",
       "      <td>0</td>\n",
       "      <td>3</td>\n",
       "    </tr>\n",
       "    <tr>\n",
       "      <th>...</th>\n",
       "      <td>...</td>\n",
       "      <td>...</td>\n",
       "      <td>...</td>\n",
       "      <td>...</td>\n",
       "      <td>...</td>\n",
       "      <td>...</td>\n",
       "      <td>...</td>\n",
       "      <td>...</td>\n",
       "      <td>...</td>\n",
       "      <td>...</td>\n",
       "      <td>...</td>\n",
       "      <td>...</td>\n",
       "      <td>...</td>\n",
       "    </tr>\n",
       "    <tr>\n",
       "      <th>18244</th>\n",
       "      <td>7</td>\n",
       "      <td>161</td>\n",
       "      <td>1.63</td>\n",
       "      <td>2046.96</td>\n",
       "      <td>1529.20</td>\n",
       "      <td>0.00</td>\n",
       "      <td>13066.82</td>\n",
       "      <td>431.85</td>\n",
       "      <td>0.0</td>\n",
       "      <td>1</td>\n",
       "      <td>2018</td>\n",
       "      <td>53</td>\n",
       "      <td>1</td>\n",
       "    </tr>\n",
       "    <tr>\n",
       "      <th>18245</th>\n",
       "      <td>8</td>\n",
       "      <td>160</td>\n",
       "      <td>1.71</td>\n",
       "      <td>1191.70</td>\n",
       "      <td>3431.50</td>\n",
       "      <td>0.00</td>\n",
       "      <td>8940.04</td>\n",
       "      <td>324.80</td>\n",
       "      <td>0.0</td>\n",
       "      <td>1</td>\n",
       "      <td>2018</td>\n",
       "      <td>53</td>\n",
       "      <td>1</td>\n",
       "    </tr>\n",
       "    <tr>\n",
       "      <th>18246</th>\n",
       "      <td>9</td>\n",
       "      <td>159</td>\n",
       "      <td>1.87</td>\n",
       "      <td>1191.92</td>\n",
       "      <td>2452.79</td>\n",
       "      <td>727.94</td>\n",
       "      <td>9351.80</td>\n",
       "      <td>42.31</td>\n",
       "      <td>0.0</td>\n",
       "      <td>1</td>\n",
       "      <td>2018</td>\n",
       "      <td>53</td>\n",
       "      <td>1</td>\n",
       "    </tr>\n",
       "    <tr>\n",
       "      <th>18247</th>\n",
       "      <td>10</td>\n",
       "      <td>158</td>\n",
       "      <td>1.93</td>\n",
       "      <td>1527.63</td>\n",
       "      <td>2981.04</td>\n",
       "      <td>727.01</td>\n",
       "      <td>10919.54</td>\n",
       "      <td>50.00</td>\n",
       "      <td>0.0</td>\n",
       "      <td>1</td>\n",
       "      <td>2018</td>\n",
       "      <td>53</td>\n",
       "      <td>1</td>\n",
       "    </tr>\n",
       "    <tr>\n",
       "      <th>18248</th>\n",
       "      <td>11</td>\n",
       "      <td>157</td>\n",
       "      <td>1.62</td>\n",
       "      <td>2894.77</td>\n",
       "      <td>2356.13</td>\n",
       "      <td>224.53</td>\n",
       "      <td>11988.14</td>\n",
       "      <td>26.01</td>\n",
       "      <td>0.0</td>\n",
       "      <td>1</td>\n",
       "      <td>2018</td>\n",
       "      <td>53</td>\n",
       "      <td>1</td>\n",
       "    </tr>\n",
       "  </tbody>\n",
       "</table>\n",
       "<p>18249 rows × 13 columns</p>\n",
       "</div>"
      ],
      "text/plain": [
       "       Unnamed: 0  Date  AveragePrice     4046       4225    4770  Small Bags  \\\n",
       "0               0    51          1.33  1036.74   54454.85   48.16     8603.62   \n",
       "1               1    50          1.35   674.28   44638.81   58.33     9408.07   \n",
       "2               2    49          0.93   794.70  109149.67  130.50     8042.21   \n",
       "3               3    48          1.08  1132.00   71976.41   72.58     5677.40   \n",
       "4               4    47          1.28   941.48   43838.39   75.78     5986.26   \n",
       "...           ...   ...           ...      ...        ...     ...         ...   \n",
       "18244           7   161          1.63  2046.96    1529.20    0.00    13066.82   \n",
       "18245           8   160          1.71  1191.70    3431.50    0.00     8940.04   \n",
       "18246           9   159          1.87  1191.92    2452.79  727.94     9351.80   \n",
       "18247          10   158          1.93  1527.63    2981.04  727.01    10919.54   \n",
       "18248          11   157          1.62  2894.77    2356.13  224.53    11988.14   \n",
       "\n",
       "       Large Bags  XLarge Bags  type  year  region  month  \n",
       "0           93.25          0.0     0  2015       0      3  \n",
       "1           97.49          0.0     0  2015       0      3  \n",
       "2          103.14          0.0     0  2015       0      3  \n",
       "3          133.76          0.0     0  2015       0      3  \n",
       "4          197.69          0.0     0  2015       0      3  \n",
       "...           ...          ...   ...   ...     ...    ...  \n",
       "18244      431.85          0.0     1  2018      53      1  \n",
       "18245      324.80          0.0     1  2018      53      1  \n",
       "18246       42.31          0.0     1  2018      53      1  \n",
       "18247       50.00          0.0     1  2018      53      1  \n",
       "18248       26.01          0.0     1  2018      53      1  \n",
       "\n",
       "[18249 rows x 13 columns]"
      ]
     },
     "execution_count": 39,
     "metadata": {},
     "output_type": "execute_result"
    }
   ],
   "source": [
    "df"
   ]
  },
  {
   "cell_type": "markdown",
   "metadata": {},
   "source": [
    "Removing Outliers"
   ]
  },
  {
   "cell_type": "code",
   "execution_count": 40,
   "metadata": {},
   "outputs": [],
   "source": [
    "from scipy.stats import zscore"
   ]
  },
  {
   "cell_type": "code",
   "execution_count": 41,
   "metadata": {},
   "outputs": [],
   "source": [
    "z=np.abs(zscore(df))"
   ]
  },
  {
   "cell_type": "code",
   "execution_count": 42,
   "metadata": {},
   "outputs": [
    {
     "name": "stdout",
     "output_type": "stream",
     "text": [
      "(array([  346,   359,   780, ..., 17304, 17402, 17428], dtype=int64), array([3, 3, 8, ..., 2, 2, 2], dtype=int64))\n"
     ]
    }
   ],
   "source": [
    "threshold=3\n",
    "print(np.where(z>3))"
   ]
  },
  {
   "cell_type": "code",
   "execution_count": 43,
   "metadata": {},
   "outputs": [],
   "source": [
    "df_new=df[(z<3).all(axis=1)]"
   ]
  },
  {
   "cell_type": "code",
   "execution_count": 44,
   "metadata": {},
   "outputs": [
    {
     "data": {
      "text/plain": [
       "(17651, 13)"
      ]
     },
     "execution_count": 44,
     "metadata": {},
     "output_type": "execute_result"
    }
   ],
   "source": [
    "df_new.shape"
   ]
  },
  {
   "cell_type": "code",
   "execution_count": 45,
   "metadata": {},
   "outputs": [
    {
     "data": {
      "text/plain": [
       "(18249, 13)"
      ]
     },
     "execution_count": 45,
     "metadata": {},
     "output_type": "execute_result"
    }
   ],
   "source": [
    "df.shape"
   ]
  },
  {
   "cell_type": "code",
   "execution_count": 154,
   "metadata": {},
   "outputs": [
    {
     "data": {
      "text/plain": [
       "3.3879100334258685"
      ]
     },
     "execution_count": 154,
     "metadata": {},
     "output_type": "execute_result"
    }
   ],
   "source": [
    "loss_of_data=(18249-17651)/17651*100\n",
    "loss_of_data"
   ]
  },
  {
   "cell_type": "code",
   "execution_count": 47,
   "metadata": {},
   "outputs": [],
   "source": [
    "df=df_new"
   ]
  },
  {
   "cell_type": "code",
   "execution_count": 48,
   "metadata": {},
   "outputs": [
    {
     "data": {
      "text/plain": [
       "Unnamed: 0      0.106116\n",
       "Date            0.013714\n",
       "AveragePrice    0.377432\n",
       "4046            4.909848\n",
       "4225            4.455745\n",
       "4770            5.117170\n",
       "Small Bags      4.222706\n",
       "Large Bags      5.053434\n",
       "XLarge Bags     6.135607\n",
       "type           -0.037741\n",
       "year            0.229976\n",
       "region          0.012798\n",
       "month           0.081232\n",
       "dtype: float64"
      ]
     },
     "execution_count": 48,
     "metadata": {},
     "output_type": "execute_result"
    }
   ],
   "source": [
    "df.skew()"
   ]
  },
  {
   "cell_type": "markdown",
   "metadata": {},
   "source": [
    "Removing Skewness"
   ]
  },
  {
   "cell_type": "code",
   "execution_count": 49,
   "metadata": {},
   "outputs": [],
   "source": [
    "s=['4046','4225','4770','Small Bags','Large Bags','XLarge Bags']"
   ]
  },
  {
   "cell_type": "code",
   "execution_count": 50,
   "metadata": {},
   "outputs": [],
   "source": [
    "for i in s:\n",
    "    df[i]=np.sqrt(df[i])"
   ]
  },
  {
   "cell_type": "code",
   "execution_count": 51,
   "metadata": {},
   "outputs": [
    {
     "data": {
      "text/plain": [
       "Unnamed: 0      0.106116\n",
       "Date            0.013714\n",
       "AveragePrice    0.377432\n",
       "4046            2.497504\n",
       "4225            2.128505\n",
       "4770            2.636658\n",
       "Small Bags      2.093752\n",
       "Large Bags      2.236756\n",
       "XLarge Bags     3.312484\n",
       "type           -0.037741\n",
       "year            0.229976\n",
       "region          0.012798\n",
       "month           0.081232\n",
       "dtype: float64"
      ]
     },
     "execution_count": 51,
     "metadata": {},
     "output_type": "execute_result"
    }
   ],
   "source": [
    "df.skew()"
   ]
  },
  {
   "cell_type": "code",
   "execution_count": 53,
   "metadata": {},
   "outputs": [],
   "source": [
    "x1=df.drop(['Unnamed: 0','region','Date'],axis=1)"
   ]
  },
  {
   "cell_type": "code",
   "execution_count": 54,
   "metadata": {},
   "outputs": [
    {
     "data": {
      "text/html": [
       "<div>\n",
       "<style scoped>\n",
       "    .dataframe tbody tr th:only-of-type {\n",
       "        vertical-align: middle;\n",
       "    }\n",
       "\n",
       "    .dataframe tbody tr th {\n",
       "        vertical-align: top;\n",
       "    }\n",
       "\n",
       "    .dataframe thead th {\n",
       "        text-align: right;\n",
       "    }\n",
       "</style>\n",
       "<table border=\"1\" class=\"dataframe\">\n",
       "  <thead>\n",
       "    <tr style=\"text-align: right;\">\n",
       "      <th></th>\n",
       "      <th>AveragePrice</th>\n",
       "      <th>4046</th>\n",
       "      <th>4225</th>\n",
       "      <th>4770</th>\n",
       "      <th>Small Bags</th>\n",
       "      <th>Large Bags</th>\n",
       "      <th>XLarge Bags</th>\n",
       "      <th>type</th>\n",
       "      <th>year</th>\n",
       "      <th>month</th>\n",
       "    </tr>\n",
       "  </thead>\n",
       "  <tbody>\n",
       "    <tr>\n",
       "      <th>0</th>\n",
       "      <td>1.33</td>\n",
       "      <td>32.198447</td>\n",
       "      <td>233.355630</td>\n",
       "      <td>6.939741</td>\n",
       "      <td>92.755701</td>\n",
       "      <td>9.656604</td>\n",
       "      <td>0.0</td>\n",
       "      <td>0</td>\n",
       "      <td>2015</td>\n",
       "      <td>3</td>\n",
       "    </tr>\n",
       "    <tr>\n",
       "      <th>1</th>\n",
       "      <td>1.35</td>\n",
       "      <td>25.966902</td>\n",
       "      <td>211.278986</td>\n",
       "      <td>7.637408</td>\n",
       "      <td>96.995206</td>\n",
       "      <td>9.873702</td>\n",
       "      <td>0.0</td>\n",
       "      <td>0</td>\n",
       "      <td>2015</td>\n",
       "      <td>3</td>\n",
       "    </tr>\n",
       "    <tr>\n",
       "      <th>2</th>\n",
       "      <td>0.93</td>\n",
       "      <td>28.190424</td>\n",
       "      <td>330.378071</td>\n",
       "      <td>11.423660</td>\n",
       "      <td>89.678370</td>\n",
       "      <td>10.155787</td>\n",
       "      <td>0.0</td>\n",
       "      <td>0</td>\n",
       "      <td>2015</td>\n",
       "      <td>3</td>\n",
       "    </tr>\n",
       "    <tr>\n",
       "      <th>3</th>\n",
       "      <td>1.08</td>\n",
       "      <td>33.645208</td>\n",
       "      <td>268.284196</td>\n",
       "      <td>8.519390</td>\n",
       "      <td>75.348524</td>\n",
       "      <td>11.565466</td>\n",
       "      <td>0.0</td>\n",
       "      <td>0</td>\n",
       "      <td>2015</td>\n",
       "      <td>3</td>\n",
       "    </tr>\n",
       "    <tr>\n",
       "      <th>4</th>\n",
       "      <td>1.28</td>\n",
       "      <td>30.683546</td>\n",
       "      <td>209.376193</td>\n",
       "      <td>8.705171</td>\n",
       "      <td>77.370925</td>\n",
       "      <td>14.060228</td>\n",
       "      <td>0.0</td>\n",
       "      <td>0</td>\n",
       "      <td>2015</td>\n",
       "      <td>3</td>\n",
       "    </tr>\n",
       "    <tr>\n",
       "      <th>...</th>\n",
       "      <td>...</td>\n",
       "      <td>...</td>\n",
       "      <td>...</td>\n",
       "      <td>...</td>\n",
       "      <td>...</td>\n",
       "      <td>...</td>\n",
       "      <td>...</td>\n",
       "      <td>...</td>\n",
       "      <td>...</td>\n",
       "      <td>...</td>\n",
       "    </tr>\n",
       "    <tr>\n",
       "      <th>18244</th>\n",
       "      <td>1.63</td>\n",
       "      <td>45.243342</td>\n",
       "      <td>39.104987</td>\n",
       "      <td>0.000000</td>\n",
       "      <td>114.310192</td>\n",
       "      <td>20.781001</td>\n",
       "      <td>0.0</td>\n",
       "      <td>1</td>\n",
       "      <td>2018</td>\n",
       "      <td>1</td>\n",
       "    </tr>\n",
       "    <tr>\n",
       "      <th>18245</th>\n",
       "      <td>1.71</td>\n",
       "      <td>34.521008</td>\n",
       "      <td>58.579006</td>\n",
       "      <td>0.000000</td>\n",
       "      <td>94.551785</td>\n",
       "      <td>18.022209</td>\n",
       "      <td>0.0</td>\n",
       "      <td>1</td>\n",
       "      <td>2018</td>\n",
       "      <td>1</td>\n",
       "    </tr>\n",
       "    <tr>\n",
       "      <th>18246</th>\n",
       "      <td>1.87</td>\n",
       "      <td>34.524194</td>\n",
       "      <td>49.525650</td>\n",
       "      <td>26.980363</td>\n",
       "      <td>96.704705</td>\n",
       "      <td>6.504614</td>\n",
       "      <td>0.0</td>\n",
       "      <td>1</td>\n",
       "      <td>2018</td>\n",
       "      <td>1</td>\n",
       "    </tr>\n",
       "    <tr>\n",
       "      <th>18247</th>\n",
       "      <td>1.93</td>\n",
       "      <td>39.084908</td>\n",
       "      <td>54.598901</td>\n",
       "      <td>26.963123</td>\n",
       "      <td>104.496603</td>\n",
       "      <td>7.071068</td>\n",
       "      <td>0.0</td>\n",
       "      <td>1</td>\n",
       "      <td>2018</td>\n",
       "      <td>1</td>\n",
       "    </tr>\n",
       "    <tr>\n",
       "      <th>18248</th>\n",
       "      <td>1.62</td>\n",
       "      <td>53.803067</td>\n",
       "      <td>48.539984</td>\n",
       "      <td>14.984325</td>\n",
       "      <td>109.490365</td>\n",
       "      <td>5.100000</td>\n",
       "      <td>0.0</td>\n",
       "      <td>1</td>\n",
       "      <td>2018</td>\n",
       "      <td>1</td>\n",
       "    </tr>\n",
       "  </tbody>\n",
       "</table>\n",
       "<p>17651 rows × 10 columns</p>\n",
       "</div>"
      ],
      "text/plain": [
       "       AveragePrice       4046        4225       4770  Small Bags  Large Bags  \\\n",
       "0              1.33  32.198447  233.355630   6.939741   92.755701    9.656604   \n",
       "1              1.35  25.966902  211.278986   7.637408   96.995206    9.873702   \n",
       "2              0.93  28.190424  330.378071  11.423660   89.678370   10.155787   \n",
       "3              1.08  33.645208  268.284196   8.519390   75.348524   11.565466   \n",
       "4              1.28  30.683546  209.376193   8.705171   77.370925   14.060228   \n",
       "...             ...        ...         ...        ...         ...         ...   \n",
       "18244          1.63  45.243342   39.104987   0.000000  114.310192   20.781001   \n",
       "18245          1.71  34.521008   58.579006   0.000000   94.551785   18.022209   \n",
       "18246          1.87  34.524194   49.525650  26.980363   96.704705    6.504614   \n",
       "18247          1.93  39.084908   54.598901  26.963123  104.496603    7.071068   \n",
       "18248          1.62  53.803067   48.539984  14.984325  109.490365    5.100000   \n",
       "\n",
       "       XLarge Bags  type  year  month  \n",
       "0              0.0     0  2015      3  \n",
       "1              0.0     0  2015      3  \n",
       "2              0.0     0  2015      3  \n",
       "3              0.0     0  2015      3  \n",
       "4              0.0     0  2015      3  \n",
       "...            ...   ...   ...    ...  \n",
       "18244          0.0     1  2018      1  \n",
       "18245          0.0     1  2018      1  \n",
       "18246          0.0     1  2018      1  \n",
       "18247          0.0     1  2018      1  \n",
       "18248          0.0     1  2018      1  \n",
       "\n",
       "[17651 rows x 10 columns]"
      ]
     },
     "execution_count": 54,
     "metadata": {},
     "output_type": "execute_result"
    }
   ],
   "source": [
    "x1"
   ]
  },
  {
   "cell_type": "code",
   "execution_count": 55,
   "metadata": {},
   "outputs": [],
   "source": [
    "y1=df['region']"
   ]
  },
  {
   "cell_type": "markdown",
   "metadata": {},
   "source": [
    "# StandardScaler"
   ]
  },
  {
   "cell_type": "code",
   "execution_count": 56,
   "metadata": {},
   "outputs": [],
   "source": [
    "from sklearn.preprocessing import StandardScaler"
   ]
  },
  {
   "cell_type": "code",
   "execution_count": 57,
   "metadata": {},
   "outputs": [],
   "source": [
    "std=StandardScaler()"
   ]
  },
  {
   "cell_type": "code",
   "execution_count": 58,
   "metadata": {},
   "outputs": [],
   "source": [
    "X1=std.fit_transform(x1)"
   ]
  },
  {
   "cell_type": "code",
   "execution_count": 59,
   "metadata": {},
   "outputs": [],
   "source": [
    "x1=X1"
   ]
  },
  {
   "cell_type": "code",
   "execution_count": 60,
   "metadata": {},
   "outputs": [
    {
     "data": {
      "text/plain": [
       "array([[-0.19535234, -0.61273656, -0.10350777, ..., -1.01904715,\n",
       "        -1.21001338,  1.40117505],\n",
       "       [-0.1435096 , -0.63220124, -0.17505138, ..., -1.01904715,\n",
       "        -1.21001338,  1.40117505],\n",
       "       [-1.2322071 , -0.62525591,  0.21091212, ..., -1.01904715,\n",
       "        -1.21001338,  1.40117505],\n",
       "       ...,\n",
       "       [ 1.20440158, -0.60547192, -0.6992442 , ...,  0.98130886,\n",
       "         1.98075592, -0.43655276],\n",
       "       [ 1.35992979, -0.5912262 , -0.68280335, ...,  0.98130886,\n",
       "         1.98075592, -0.43655276],\n",
       "       [ 0.55636736, -0.54525295, -0.70243844, ...,  0.98130886,\n",
       "         1.98075592, -0.43655276]])"
      ]
     },
     "execution_count": 60,
     "metadata": {},
     "output_type": "execute_result"
    }
   ],
   "source": [
    "x1"
   ]
  },
  {
   "cell_type": "markdown",
   "metadata": {},
   "source": [
    "# Taking Target Variable=Region consider Classification problem"
   ]
  },
  {
   "cell_type": "markdown",
   "metadata": {},
   "source": [
    "# Random state selection"
   ]
  },
  {
   "cell_type": "code",
   "execution_count": 61,
   "metadata": {},
   "outputs": [],
   "source": [
    "from sklearn.model_selection  import train_test_split \n",
    "from sklearn.linear_model import LogisticRegression\n",
    "from sklearn.metrics import accuracy_score,confusion_matrix,classification_report,f1_score"
   ]
  },
  {
   "cell_type": "code",
   "execution_count": 62,
   "metadata": {},
   "outputs": [],
   "source": [
    "lg=LogisticRegression()"
   ]
  },
  {
   "cell_type": "code",
   "execution_count": 63,
   "metadata": {},
   "outputs": [
    {
     "name": "stdout",
     "output_type": "stream",
     "text": [
      "Random state 4 score is well\n",
      "test score 49.27782497875956\n",
      "train score 49.27762039660057\n"
     ]
    }
   ],
   "source": [
    "for i in range(1,50):\n",
    "    x1_train,x1_test,y1_train,y1_test=train_test_split(x1,y1,test_size=0.20,random_state=i)\n",
    "    lg.fit(x1_train,y1_train)\n",
    "    pred_test=lg.predict(x1_test)\n",
    "    pred_train=lg.predict(x1_train)\n",
    "    if round(accuracy_score(y1_test,pred_test)*100,1)==round(accuracy_score(y1_train,pred_train)*100,1):\n",
    "        print('Random state',i,'score is well')\n",
    "        print('test score',accuracy_score(y1_test,pred_test)*100)\n",
    "        print('train score',accuracy_score(y1_train,pred_train)*100)"
   ]
  },
  {
   "cell_type": "code",
   "execution_count": 64,
   "metadata": {},
   "outputs": [],
   "source": [
    "x1_train,x1_test,y1_train,y1_test=train_test_split(x1,y1,test_size=0.20,random_state=4)"
   ]
  },
  {
   "cell_type": "code",
   "execution_count": 65,
   "metadata": {},
   "outputs": [],
   "source": [
    "from sklearn.svm import SVC\n",
    "from sklearn.naive_bayes import MultinomialNB\n",
    "from sklearn.tree import DecisionTreeClassifier\n",
    "from sklearn.neighbors import KNeighborsClassifier\n",
    "from sklearn.model_selection import GridSearchCV"
   ]
  },
  {
   "cell_type": "code",
   "execution_count": 66,
   "metadata": {},
   "outputs": [],
   "source": [
    "svc=SVC()\n",
    "dtc=DecisionTreeClassifier()\n",
    "knn=KNeighborsClassifier()\n",
    "nb=MultinomialNB()"
   ]
  },
  {
   "cell_type": "code",
   "execution_count": 67,
   "metadata": {},
   "outputs": [],
   "source": [
    "def fun(f):\n",
    "    f.fit(x1_train,y1_train)\n",
    "    pred=f.predict(x1_test)\n",
    "    print('Accuracy Score',accuracy_score(y1_test,pred))\n",
    "    print('Confusion Matrix\\n',confusion_matrix(y1_test,pred))\n",
    "    print('Classification Report\\n',classification_report(y1_test,pred))\n",
    "    print('F1 score',f1_score(y1_test,pred,average='micro'))"
   ]
  },
  {
   "cell_type": "code",
   "execution_count": 68,
   "metadata": {},
   "outputs": [
    {
     "name": "stdout",
     "output_type": "stream",
     "text": [
      "Accuracy Score 0.6128575474369867\n",
      "Confusion Matrix\n",
      " [[43  0  0 ...  0  0  0]\n",
      " [ 0 27  0 ...  0  0  0]\n",
      " [ 0  0 47 ...  0  0  0]\n",
      " ...\n",
      " [ 0  0  0 ... 39  0  0]\n",
      " [ 0  0  0 ...  0 62  0]\n",
      " [ 0  4  1 ...  0  0 35]]\n",
      "Classification Report\n",
      "               precision    recall  f1-score   support\n",
      "\n",
      "           0       0.42      0.61      0.50        70\n",
      "           1       0.47      0.49      0.48        55\n",
      "           2       0.61      0.71      0.66        66\n",
      "           3       1.00      0.54      0.70        69\n",
      "           4       0.77      0.80      0.78        61\n",
      "           5       0.79      0.42      0.55        72\n",
      "           6       0.93      0.91      0.92        78\n",
      "           7       0.66      0.61      0.63        75\n",
      "           8       0.83      0.93      0.88        70\n",
      "           9       0.50      0.70      0.58        66\n",
      "          10       0.42      0.43      0.43        76\n",
      "          11       0.59      0.75      0.66        71\n",
      "          12       0.72      0.68      0.70        57\n",
      "          13       0.70      0.48      0.57        63\n",
      "          14       0.19      0.60      0.29        62\n",
      "          15       0.89      0.98      0.94        52\n",
      "          16       0.85      0.41      0.55        68\n",
      "          17       0.45      0.74      0.56        62\n",
      "          18       0.69      0.53      0.60        66\n",
      "          19       0.58      0.41      0.48        68\n",
      "          20       0.47      0.60      0.53        72\n",
      "          21       0.93      0.41      0.57        68\n",
      "          22       0.97      0.83      0.89        70\n",
      "          23       0.71      0.46      0.56        74\n",
      "          24       0.63      0.57      0.60        56\n",
      "          25       0.94      0.91      0.93        68\n",
      "          26       0.36      0.48      0.41        62\n",
      "          27       0.37      0.36      0.36        64\n",
      "          28       0.83      0.83      0.83        69\n",
      "          29       0.98      0.90      0.94        52\n",
      "          30       0.59      0.51      0.54        67\n",
      "          31       0.45      0.29      0.35        63\n",
      "          32       0.49      0.54      0.52        59\n",
      "          33       0.45      0.64      0.53        58\n",
      "          34       0.26      0.66      0.37        82\n",
      "          35       0.81      0.94      0.87        71\n",
      "          36       0.84      0.57      0.68        72\n",
      "          37       0.51      0.38      0.44        68\n",
      "          38       0.53      0.60      0.56        62\n",
      "          39       0.54      0.52      0.53        66\n",
      "          40       0.55      0.65      0.59        71\n",
      "          41       0.69      0.61      0.64        61\n",
      "          42       0.91      0.66      0.77        62\n",
      "          43       0.73      0.70      0.72        63\n",
      "          44       0.80      0.44      0.56        80\n",
      "          45       0.88      1.00      0.93        50\n",
      "          46       0.91      0.72      0.81        58\n",
      "          47       0.90      0.38      0.54        68\n",
      "          48       0.66      0.38      0.48        66\n",
      "          49       0.58      0.43      0.50        65\n",
      "          50       0.28      0.37      0.32        52\n",
      "          51       1.00      1.00      1.00        39\n",
      "          52       1.00      0.94      0.97        66\n",
      "          53       0.97      0.44      0.60        80\n",
      "\n",
      "    accuracy                           0.61      3531\n",
      "   macro avg       0.68      0.62      0.63      3531\n",
      "weighted avg       0.68      0.61      0.62      3531\n",
      "\n",
      "F1 score 0.6128575474369867\n"
     ]
    }
   ],
   "source": [
    "fun(svc)"
   ]
  },
  {
   "cell_type": "code",
   "execution_count": 69,
   "metadata": {},
   "outputs": [
    {
     "name": "stdout",
     "output_type": "stream",
     "text": [
      "Accuracy Score 0.8079864061172473\n",
      "Confusion Matrix\n",
      " [[61  0  0 ...  0  0  0]\n",
      " [ 0 43  0 ...  0  0  0]\n",
      " [ 0  0 60 ...  0  0  1]\n",
      " ...\n",
      " [ 0  0  0 ... 38  0  0]\n",
      " [ 0  0  0 ...  0 61  0]\n",
      " [ 0  2  1 ...  0  0 54]]\n",
      "Classification Report\n",
      "               precision    recall  f1-score   support\n",
      "\n",
      "           0       0.88      0.87      0.88        70\n",
      "           1       0.70      0.78      0.74        55\n",
      "           2       0.86      0.91      0.88        66\n",
      "           3       0.75      0.80      0.77        69\n",
      "           4       0.87      0.85      0.86        61\n",
      "           5       0.81      0.76      0.79        72\n",
      "           6       0.99      0.99      0.99        78\n",
      "           7       0.81      0.76      0.79        75\n",
      "           8       0.90      0.89      0.89        70\n",
      "           9       0.87      0.70      0.77        66\n",
      "          10       0.74      0.68      0.71        76\n",
      "          11       0.89      0.83      0.86        71\n",
      "          12       0.88      0.79      0.83        57\n",
      "          13       0.73      0.78      0.75        63\n",
      "          14       0.80      0.77      0.79        62\n",
      "          15       0.98      0.96      0.97        52\n",
      "          16       0.90      0.90      0.90        68\n",
      "          17       0.79      0.85      0.82        62\n",
      "          18       0.81      0.91      0.86        66\n",
      "          19       0.79      0.82      0.81        68\n",
      "          20       0.82      0.90      0.86        72\n",
      "          21       0.64      0.63      0.64        68\n",
      "          22       0.94      0.94      0.94        70\n",
      "          23       0.73      0.78      0.76        74\n",
      "          24       0.62      0.66      0.64        56\n",
      "          25       0.91      0.93      0.92        68\n",
      "          26       0.60      0.76      0.67        62\n",
      "          27       0.77      0.78      0.78        64\n",
      "          28       0.77      0.81      0.79        69\n",
      "          29       0.87      0.77      0.82        52\n",
      "          30       0.94      0.90      0.92        67\n",
      "          31       0.67      0.67      0.67        63\n",
      "          32       0.86      0.71      0.78        59\n",
      "          33       0.79      0.84      0.82        58\n",
      "          34       0.76      0.82      0.79        82\n",
      "          35       0.88      0.82      0.85        71\n",
      "          36       0.74      0.74      0.74        72\n",
      "          37       0.76      0.79      0.78        68\n",
      "          38       0.78      0.84      0.81        62\n",
      "          39       0.77      0.83      0.80        66\n",
      "          40       0.91      0.86      0.88        71\n",
      "          41       0.73      0.77      0.75        61\n",
      "          42       0.90      0.90      0.90        62\n",
      "          43       0.69      0.70      0.69        63\n",
      "          44       0.83      0.78      0.80        80\n",
      "          45       0.91      0.96      0.93        50\n",
      "          46       0.93      0.91      0.92        58\n",
      "          47       0.80      0.66      0.73        68\n",
      "          48       0.81      0.59      0.68        66\n",
      "          49       0.86      0.86      0.86        65\n",
      "          50       0.47      0.60      0.53        52\n",
      "          51       0.97      0.97      0.97        39\n",
      "          52       0.94      0.92      0.93        66\n",
      "          53       0.72      0.68      0.70        80\n",
      "\n",
      "    accuracy                           0.81      3531\n",
      "   macro avg       0.81      0.81      0.81      3531\n",
      "weighted avg       0.81      0.81      0.81      3531\n",
      "\n",
      "F1 score 0.8079864061172473\n"
     ]
    }
   ],
   "source": [
    "fun(dtc)"
   ]
  },
  {
   "cell_type": "code",
   "execution_count": 70,
   "metadata": {},
   "outputs": [
    {
     "name": "stdout",
     "output_type": "stream",
     "text": [
      "Accuracy Score 0.7116964032851884\n",
      "Confusion Matrix\n",
      " [[51  0  0 ...  0  0  0]\n",
      " [ 0 37  0 ...  0  0  0]\n",
      " [ 0  0 57 ...  0  0  0]\n",
      " ...\n",
      " [ 0  0  0 ... 39  0  0]\n",
      " [ 0  0  0 ...  0 57  0]\n",
      " [ 0  0  0 ...  0  0 45]]\n",
      "Classification Report\n",
      "               precision    recall  f1-score   support\n",
      "\n",
      "           0       0.55      0.73      0.63        70\n",
      "           1       0.42      0.67      0.51        55\n",
      "           2       0.79      0.86      0.83        66\n",
      "           3       0.65      0.74      0.69        69\n",
      "           4       0.81      0.93      0.87        61\n",
      "           5       0.59      0.60      0.59        72\n",
      "           6       0.91      0.95      0.93        78\n",
      "           7       0.68      0.69      0.69        75\n",
      "           8       0.92      0.93      0.92        70\n",
      "           9       0.59      0.62      0.61        66\n",
      "          10       0.48      0.59      0.53        76\n",
      "          11       0.72      0.76      0.74        71\n",
      "          12       0.79      0.81      0.80        57\n",
      "          13       0.55      0.57      0.56        63\n",
      "          14       0.66      0.74      0.70        62\n",
      "          15       0.87      0.88      0.88        52\n",
      "          16       0.72      0.56      0.63        68\n",
      "          17       0.69      0.74      0.71        62\n",
      "          18       0.77      0.71      0.74        66\n",
      "          19       0.51      0.59      0.55        68\n",
      "          20       0.61      0.69      0.65        72\n",
      "          21       0.55      0.51      0.53        68\n",
      "          22       0.97      0.90      0.93        70\n",
      "          23       0.60      0.59      0.60        74\n",
      "          24       0.54      0.62      0.58        56\n",
      "          25       0.87      0.96      0.91        68\n",
      "          26       0.60      0.68      0.64        62\n",
      "          27       0.72      0.61      0.66        64\n",
      "          28       0.92      0.80      0.85        69\n",
      "          29       0.98      0.92      0.95        52\n",
      "          30       0.88      0.67      0.76        67\n",
      "          31       0.51      0.44      0.47        63\n",
      "          32       0.75      0.73      0.74        59\n",
      "          33       0.68      0.76      0.72        58\n",
      "          34       0.73      0.74      0.74        82\n",
      "          35       0.84      0.90      0.87        71\n",
      "          36       0.76      0.65      0.70        72\n",
      "          37       0.64      0.69      0.66        68\n",
      "          38       0.68      0.63      0.66        62\n",
      "          39       0.66      0.59      0.62        66\n",
      "          40       0.74      0.75      0.74        71\n",
      "          41       0.69      0.67      0.68        61\n",
      "          42       0.91      0.85      0.88        62\n",
      "          43       0.84      0.60      0.70        63\n",
      "          44       0.70      0.68      0.69        80\n",
      "          45       0.92      0.96      0.94        50\n",
      "          46       0.93      0.91      0.92        58\n",
      "          47       0.71      0.59      0.65        68\n",
      "          48       0.78      0.48      0.60        66\n",
      "          49       0.47      0.55      0.51        65\n",
      "          50       0.44      0.37      0.40        52\n",
      "          51       1.00      1.00      1.00        39\n",
      "          52       0.97      0.86      0.91        66\n",
      "          53       0.80      0.56      0.66        80\n",
      "\n",
      "    accuracy                           0.71      3531\n",
      "   macro avg       0.72      0.72      0.72      3531\n",
      "weighted avg       0.72      0.71      0.71      3531\n",
      "\n",
      "F1 score 0.7116964032851884\n"
     ]
    }
   ],
   "source": [
    "fun(knn)"
   ]
  },
  {
   "cell_type": "markdown",
   "metadata": {},
   "source": [
    "# Hyperparameter Tuning For Best Score"
   ]
  },
  {
   "cell_type": "code",
   "execution_count": 71,
   "metadata": {},
   "outputs": [
    {
     "name": "stdout",
     "output_type": "stream",
     "text": [
      "{'kernel': 'linear'}\n"
     ]
    }
   ],
   "source": [
    "param={'kernel':['linear','rbf','poly','sigmoid']}\n",
    "gd=GridSearchCV(svc,param,cv=5)\n",
    "gd.fit(x1,y1)\n",
    "print(gd.best_params_)"
   ]
  },
  {
   "cell_type": "code",
   "execution_count": 72,
   "metadata": {},
   "outputs": [
    {
     "name": "stdout",
     "output_type": "stream",
     "text": [
      "{'criterion': 'entropy', 'max_depth': 5, 'max_features': 'log2', 'splitter': 'best'}\n"
     ]
    }
   ],
   "source": [
    "param={'criterion':['ginny','entropy'],'splitter':['best','random'],'max_features':['none','auto','sqrt','log2'],'max_depth':[1,2,3,4,5]}\n",
    "gd=GridSearchCV(dtc,param)\n",
    "gd.fit(x1,y1)\n",
    "print(gd.best_params_)"
   ]
  },
  {
   "cell_type": "code",
   "execution_count": 73,
   "metadata": {},
   "outputs": [
    {
     "name": "stdout",
     "output_type": "stream",
     "text": [
      "{'algorithm': 'auto', 'n_neighbors': 5, 'weights': 'distance'}\n"
     ]
    }
   ],
   "source": [
    "param={'n_neighbors':[7,5,11],'weights':['uniform','distance'],'algorithm':['auto','bell_tree','kd_tree','brute']}\n",
    "gd=GridSearchCV(knn,param)\n",
    "gd.fit(x1,y1)\n",
    "print(gd.best_params_)"
   ]
  },
  {
   "cell_type": "code",
   "execution_count": 74,
   "metadata": {},
   "outputs": [],
   "source": [
    "svc1=SVC(kernel='linear')\n",
    "dtc1=DecisionTreeClassifier(criterion='entropy',max_features='log2',splitter='random',max_depth=5)\n",
    "knn1=KNeighborsClassifier(n_neighbors=5,weights='distance',algorithm='auto')\n",
    "nb=MultinomialNB()"
   ]
  },
  {
   "cell_type": "code",
   "execution_count": 75,
   "metadata": {},
   "outputs": [
    {
     "name": "stdout",
     "output_type": "stream",
     "text": [
      "Accuracy Score 0.07958085528178986\n",
      "Confusion Matrix\n",
      " [[0 0 0 ... 0 0 0]\n",
      " [0 0 0 ... 0 0 0]\n",
      " [0 0 0 ... 0 0 0]\n",
      " ...\n",
      " [0 0 0 ... 0 0 0]\n",
      " [0 0 0 ... 0 0 0]\n",
      " [0 0 0 ... 0 0 0]]\n",
      "Classification Report\n",
      "               precision    recall  f1-score   support\n",
      "\n",
      "           0       0.00      0.00      0.00        70\n",
      "           1       0.00      0.00      0.00        55\n",
      "           2       0.00      0.00      0.00        66\n",
      "           3       0.00      0.00      0.00        69\n",
      "           4       0.00      0.00      0.00        61\n",
      "           5       0.00      0.00      0.00        72\n",
      "           6       0.87      0.26      0.40        78\n",
      "           7       0.00      0.00      0.00        75\n",
      "           8       0.00      0.00      0.00        70\n",
      "           9       0.12      0.08      0.09        66\n",
      "          10       0.00      0.00      0.00        76\n",
      "          11       0.48      0.20      0.28        71\n",
      "          12       0.00      0.00      0.00        57\n",
      "          13       0.07      0.29      0.11        63\n",
      "          14       0.00      0.00      0.00        62\n",
      "          15       1.00      0.04      0.07        52\n",
      "          16       0.00      0.00      0.00        68\n",
      "          17       0.03      0.26      0.06        62\n",
      "          18       0.00      0.00      0.00        66\n",
      "          19       0.00      0.00      0.00        68\n",
      "          20       0.00      0.00      0.00        72\n",
      "          21       0.00      0.00      0.00        68\n",
      "          22       0.64      0.30      0.41        70\n",
      "          23       0.00      0.00      0.00        74\n",
      "          24       0.00      0.00      0.00        56\n",
      "          25       0.41      0.21      0.27        68\n",
      "          26       0.00      0.00      0.00        62\n",
      "          27       0.00      0.00      0.00        64\n",
      "          28       0.03      0.14      0.05        69\n",
      "          29       0.52      0.31      0.39        52\n",
      "          30       0.00      0.00      0.00        67\n",
      "          31       0.00      0.00      0.00        63\n",
      "          32       0.00      0.00      0.00        59\n",
      "          33       0.33      0.38      0.35        58\n",
      "          34       0.04      0.33      0.07        82\n",
      "          35       0.00      0.00      0.00        71\n",
      "          36       0.33      0.06      0.10        72\n",
      "          37       0.00      0.00      0.00        68\n",
      "          38       0.00      0.00      0.00        62\n",
      "          39       0.04      0.32      0.06        66\n",
      "          40       0.00      0.00      0.00        71\n",
      "          41       0.00      0.00      0.00        61\n",
      "          42       0.00      0.00      0.00        62\n",
      "          43       0.00      0.00      0.00        63\n",
      "          44       0.00      0.00      0.00        80\n",
      "          45       0.22      0.60      0.32        50\n",
      "          46       0.27      0.28      0.27        58\n",
      "          47       0.00      0.00      0.00        68\n",
      "          48       0.00      0.00      0.00        66\n",
      "          49       0.04      0.38      0.07        65\n",
      "          50       0.00      0.00      0.00        52\n",
      "          51       0.00      0.00      0.00        39\n",
      "          52       0.00      0.00      0.00        66\n",
      "          53       0.00      0.00      0.00        80\n",
      "\n",
      "    accuracy                           0.08      3531\n",
      "   macro avg       0.10      0.08      0.06      3531\n",
      "weighted avg       0.10      0.08      0.06      3531\n",
      "\n",
      "F1 score 0.07958085528178986\n"
     ]
    }
   ],
   "source": [
    "fun(dtc1)"
   ]
  },
  {
   "cell_type": "code",
   "execution_count": 76,
   "metadata": {},
   "outputs": [
    {
     "name": "stdout",
     "output_type": "stream",
     "text": [
      "Accuracy Score 0.6086094590767488\n",
      "Confusion Matrix\n",
      " [[52  0  0 ...  0  0  0]\n",
      " [ 0 20  0 ...  0  0  0]\n",
      " [ 0  0 60 ...  0  0  0]\n",
      " ...\n",
      " [ 0  0  0 ... 39  0  0]\n",
      " [ 0  0  0 ...  0 60  0]\n",
      " [ 0  4  1 ...  0  0 25]]\n",
      "Classification Report\n",
      "               precision    recall  f1-score   support\n",
      "\n",
      "           0       0.53      0.74      0.62        70\n",
      "           1       0.26      0.36      0.30        55\n",
      "           2       0.87      0.91      0.89        66\n",
      "           3       0.44      0.51      0.47        69\n",
      "           4       0.53      0.75      0.63        61\n",
      "           5       0.64      0.50      0.56        72\n",
      "           6       0.89      0.86      0.88        78\n",
      "           7       0.68      0.71      0.69        75\n",
      "           8       0.86      0.93      0.89        70\n",
      "           9       0.58      0.68      0.63        66\n",
      "          10       0.52      0.43      0.47        76\n",
      "          11       0.58      0.59      0.58        71\n",
      "          12       0.57      0.63      0.60        57\n",
      "          13       0.55      0.48      0.51        63\n",
      "          14       0.36      0.65      0.46        62\n",
      "          15       0.78      0.88      0.83        52\n",
      "          16       0.78      0.57      0.66        68\n",
      "          17       0.55      0.76      0.64        62\n",
      "          18       0.44      0.53      0.48        66\n",
      "          19       0.56      0.32      0.41        68\n",
      "          20       0.43      0.75      0.55        72\n",
      "          21       0.53      0.44      0.48        68\n",
      "          22       0.89      0.79      0.83        70\n",
      "          23       0.64      0.69      0.66        74\n",
      "          24       0.41      0.45      0.43        56\n",
      "          25       0.82      0.75      0.78        68\n",
      "          26       0.37      0.40      0.38        62\n",
      "          27       0.38      0.55      0.45        64\n",
      "          28       0.86      0.87      0.86        69\n",
      "          29       0.91      0.83      0.87        52\n",
      "          30       0.62      0.37      0.47        67\n",
      "          31       0.54      0.35      0.42        63\n",
      "          32       0.56      0.58      0.57        59\n",
      "          33       0.37      0.52      0.43        58\n",
      "          34       0.38      0.43      0.40        82\n",
      "          35       0.85      0.86      0.85        71\n",
      "          36       0.53      0.33      0.41        72\n",
      "          37       0.56      0.50      0.53        68\n",
      "          38       0.55      0.66      0.60        62\n",
      "          39       0.65      0.61      0.62        66\n",
      "          40       0.66      0.90      0.76        71\n",
      "          41       0.64      0.56      0.60        61\n",
      "          42       0.90      0.87      0.89        62\n",
      "          43       0.51      0.51      0.51        63\n",
      "          44       0.66      0.55      0.60        80\n",
      "          45       0.75      0.94      0.83        50\n",
      "          46       0.88      0.79      0.84        58\n",
      "          47       0.67      0.32      0.44        68\n",
      "          48       0.65      0.30      0.41        66\n",
      "          49       0.58      0.45      0.50        65\n",
      "          50       0.29      0.17      0.22        52\n",
      "          51       1.00      1.00      1.00        39\n",
      "          52       0.94      0.91      0.92        66\n",
      "          53       1.00      0.31      0.48        80\n",
      "\n",
      "    accuracy                           0.61      3531\n",
      "   macro avg       0.63      0.61      0.61      3531\n",
      "weighted avg       0.63      0.61      0.60      3531\n",
      "\n",
      "F1 score 0.6086094590767488\n"
     ]
    }
   ],
   "source": [
    "fun(svc1)"
   ]
  },
  {
   "cell_type": "code",
   "execution_count": 77,
   "metadata": {},
   "outputs": [
    {
     "name": "stdout",
     "output_type": "stream",
     "text": [
      "Accuracy Score 0.7737184933446616\n",
      "Confusion Matrix\n",
      " [[56  0  0 ...  0  0  0]\n",
      " [ 0 38  0 ...  0  0  0]\n",
      " [ 0  0 59 ...  0  0  0]\n",
      " ...\n",
      " [ 0  0  0 ... 39  0  0]\n",
      " [ 0  0  0 ...  0 60  0]\n",
      " [ 0  1  0 ...  0  0 49]]\n",
      "Classification Report\n",
      "               precision    recall  f1-score   support\n",
      "\n",
      "           0       0.73      0.80      0.76        70\n",
      "           1       0.60      0.69      0.64        55\n",
      "           2       0.91      0.89      0.90        66\n",
      "           3       0.79      0.77      0.78        69\n",
      "           4       0.89      0.93      0.91        61\n",
      "           5       0.76      0.61      0.68        72\n",
      "           6       0.97      0.96      0.97        78\n",
      "           7       0.73      0.72      0.72        75\n",
      "           8       0.97      0.93      0.95        70\n",
      "           9       0.75      0.71      0.73        66\n",
      "          10       0.59      0.63      0.61        76\n",
      "          11       0.79      0.80      0.80        71\n",
      "          12       0.84      0.86      0.85        57\n",
      "          13       0.61      0.62      0.61        63\n",
      "          14       0.68      0.82      0.74        62\n",
      "          15       0.92      0.94      0.93        52\n",
      "          16       0.83      0.65      0.73        68\n",
      "          17       0.78      0.79      0.78        62\n",
      "          18       0.79      0.76      0.78        66\n",
      "          19       0.60      0.68      0.63        68\n",
      "          20       0.75      0.75      0.75        72\n",
      "          21       0.65      0.59      0.62        68\n",
      "          22       0.97      0.97      0.97        70\n",
      "          23       0.69      0.74      0.71        74\n",
      "          24       0.63      0.59      0.61        56\n",
      "          25       0.96      0.97      0.96        68\n",
      "          26       0.65      0.69      0.67        62\n",
      "          27       0.80      0.64      0.71        64\n",
      "          28       0.94      0.88      0.91        69\n",
      "          29       1.00      0.92      0.96        52\n",
      "          30       0.92      0.73      0.82        67\n",
      "          31       0.50      0.59      0.54        63\n",
      "          32       0.79      0.83      0.81        59\n",
      "          33       0.68      0.86      0.76        58\n",
      "          34       0.77      0.83      0.80        82\n",
      "          35       0.92      0.97      0.95        71\n",
      "          36       0.81      0.65      0.72        72\n",
      "          37       0.71      0.74      0.72        68\n",
      "          38       0.72      0.77      0.74        62\n",
      "          39       0.64      0.68      0.66        66\n",
      "          40       0.78      0.85      0.81        71\n",
      "          41       0.68      0.79      0.73        61\n",
      "          42       0.90      0.92      0.91        62\n",
      "          43       0.81      0.75      0.78        63\n",
      "          44       0.75      0.74      0.74        80\n",
      "          45       0.92      0.96      0.94        50\n",
      "          46       0.93      0.97      0.95        58\n",
      "          47       0.77      0.68      0.72        68\n",
      "          48       0.83      0.65      0.73        66\n",
      "          49       0.55      0.71      0.62        65\n",
      "          50       0.44      0.44      0.44        52\n",
      "          51       1.00      1.00      1.00        39\n",
      "          52       0.97      0.91      0.94        66\n",
      "          53       0.78      0.61      0.69        80\n",
      "\n",
      "    accuracy                           0.77      3531\n",
      "   macro avg       0.78      0.78      0.78      3531\n",
      "weighted avg       0.78      0.77      0.77      3531\n",
      "\n",
      "F1 score 0.7737184933446616\n"
     ]
    }
   ],
   "source": [
    "fun(knn1)"
   ]
  },
  {
   "cell_type": "markdown",
   "metadata": {},
   "source": [
    "# Ensembel Method"
   ]
  },
  {
   "cell_type": "code",
   "execution_count": 78,
   "metadata": {},
   "outputs": [],
   "source": [
    "from sklearn.ensemble import RandomForestClassifier,AdaBoostClassifier,GradientBoostingClassifier"
   ]
  },
  {
   "cell_type": "code",
   "execution_count": 79,
   "metadata": {},
   "outputs": [],
   "source": [
    "rf=RandomForestClassifier(n_estimators=100,random_state=4)\n",
    "ad=AdaBoostClassifier()\n",
    "Gd=GradientBoostingClassifier(n_estimators=200,learning_rate=0.1)"
   ]
  },
  {
   "cell_type": "code",
   "execution_count": 80,
   "metadata": {},
   "outputs": [
    {
     "name": "stdout",
     "output_type": "stream",
     "text": [
      "Accuracy Score 0.9221183800623053\n",
      "Confusion Matrix\n",
      " [[65  0  0 ...  0  0  0]\n",
      " [ 0 48  0 ...  0  0  0]\n",
      " [ 0  0 65 ...  0  0  0]\n",
      " ...\n",
      " [ 0  0  0 ... 39  0  0]\n",
      " [ 0  0  0 ...  1 65  0]\n",
      " [ 0  1  0 ...  0  0 63]]\n",
      "Classification Report\n",
      "               precision    recall  f1-score   support\n",
      "\n",
      "           0       0.89      0.93      0.91        70\n",
      "           1       0.79      0.87      0.83        55\n",
      "           2       0.96      0.98      0.97        66\n",
      "           3       0.97      0.91      0.94        69\n",
      "           4       0.97      1.00      0.98        61\n",
      "           5       0.91      0.82      0.86        72\n",
      "           6       1.00      1.00      1.00        78\n",
      "           7       0.94      0.87      0.90        75\n",
      "           8       0.97      0.97      0.97        70\n",
      "           9       0.98      0.86      0.92        66\n",
      "          10       0.90      0.93      0.92        76\n",
      "          11       0.95      0.87      0.91        71\n",
      "          12       0.95      0.95      0.95        57\n",
      "          13       0.86      0.87      0.87        63\n",
      "          14       0.86      0.98      0.92        62\n",
      "          15       1.00      0.98      0.99        52\n",
      "          16       0.96      0.94      0.95        68\n",
      "          17       0.93      0.92      0.93        62\n",
      "          18       0.89      0.95      0.92        66\n",
      "          19       0.91      0.90      0.90        68\n",
      "          20       0.97      0.92      0.94        72\n",
      "          21       0.85      0.90      0.87        68\n",
      "          22       0.99      0.99      0.99        70\n",
      "          23       0.87      0.93      0.90        74\n",
      "          24       0.79      0.80      0.80        56\n",
      "          25       0.96      1.00      0.98        68\n",
      "          26       0.90      0.84      0.87        62\n",
      "          27       0.98      0.91      0.94        64\n",
      "          28       0.97      0.93      0.95        69\n",
      "          29       0.96      0.98      0.97        52\n",
      "          30       0.99      0.99      0.99        67\n",
      "          31       0.80      0.87      0.83        63\n",
      "          32       0.90      0.92      0.91        59\n",
      "          33       0.90      0.98      0.94        58\n",
      "          34       0.98      0.96      0.97        82\n",
      "          35       0.96      0.97      0.97        71\n",
      "          36       0.90      0.85      0.87        72\n",
      "          37       0.84      0.96      0.90        68\n",
      "          38       0.91      0.97      0.94        62\n",
      "          39       0.94      0.95      0.95        66\n",
      "          40       0.88      0.93      0.90        71\n",
      "          41       0.87      0.95      0.91        61\n",
      "          42       0.97      0.95      0.96        62\n",
      "          43       0.92      0.86      0.89        63\n",
      "          44       1.00      0.94      0.97        80\n",
      "          45       1.00      1.00      1.00        50\n",
      "          46       1.00      0.98      0.99        58\n",
      "          47       0.90      0.88      0.89        68\n",
      "          48       0.90      0.82      0.86        66\n",
      "          49       0.89      0.88      0.88        65\n",
      "          50       0.68      0.75      0.72        52\n",
      "          51       0.97      1.00      0.99        39\n",
      "          52       0.97      0.98      0.98        66\n",
      "          53       0.95      0.79      0.86        80\n",
      "\n",
      "    accuracy                           0.92      3531\n",
      "   macro avg       0.92      0.92      0.92      3531\n",
      "weighted avg       0.92      0.92      0.92      3531\n",
      "\n",
      "F1 score 0.9221183800623053\n"
     ]
    }
   ],
   "source": [
    "fun(rf)"
   ]
  },
  {
   "cell_type": "code",
   "execution_count": 81,
   "metadata": {},
   "outputs": [
    {
     "name": "stdout",
     "output_type": "stream",
     "text": [
      "Accuracy Score 0.04927782497875956\n",
      "Confusion Matrix\n",
      " [[ 0  0  0 ...  0  0  0]\n",
      " [ 0  0  0 ...  9  3  0]\n",
      " [ 0  0  0 ...  0  0  0]\n",
      " ...\n",
      " [ 0  0  0 ... 32  0  0]\n",
      " [ 0  0  0 ... 26  1  0]\n",
      " [ 0  0  0 ... 17 19  0]]\n",
      "Classification Report\n",
      "               precision    recall  f1-score   support\n",
      "\n",
      "           0       0.00      0.00      0.00        70\n",
      "           1       0.00      0.00      0.00        55\n",
      "           2       0.00      0.00      0.00        66\n",
      "           3       0.00      0.00      0.00        69\n",
      "           4       0.00      0.00      0.00        61\n",
      "           5       0.00      0.00      0.00        72\n",
      "           6       0.00      0.00      0.00        78\n",
      "           7       0.00      0.00      0.00        75\n",
      "           8       0.00      0.00      0.00        70\n",
      "           9       0.00      0.00      0.00        66\n",
      "          10       0.00      0.00      0.00        76\n",
      "          11       0.00      0.00      0.00        71\n",
      "          12       0.00      0.00      0.00        57\n",
      "          13       0.00      0.00      0.00        63\n",
      "          14       0.00      0.00      0.00        62\n",
      "          15       1.00      0.06      0.11        52\n",
      "          16       0.00      0.00      0.00        68\n",
      "          17       0.25      0.10      0.14        62\n",
      "          18       0.15      0.33      0.21        66\n",
      "          19       0.00      0.00      0.00        68\n",
      "          20       0.00      0.00      0.00        72\n",
      "          21       0.00      0.00      0.00        68\n",
      "          22       0.00      0.00      0.00        70\n",
      "          23       0.00      0.00      0.00        74\n",
      "          24       0.00      0.00      0.00        56\n",
      "          25       0.00      0.00      0.00        68\n",
      "          26       0.00      0.00      0.00        62\n",
      "          27       0.07      0.44      0.13        64\n",
      "          28       0.00      0.00      0.00        69\n",
      "          29       0.00      0.00      0.00        52\n",
      "          30       0.00      0.00      0.00        67\n",
      "          31       0.00      0.00      0.00        63\n",
      "          32       0.04      0.90      0.07        59\n",
      "          33       0.03      0.48      0.06        58\n",
      "          34       0.00      0.00      0.00        82\n",
      "          35       0.00      0.00      0.00        71\n",
      "          36       0.00      0.00      0.00        72\n",
      "          37       0.00      0.00      0.00        68\n",
      "          38       0.04      0.02      0.02        62\n",
      "          39       0.00      0.00      0.00        66\n",
      "          40       0.00      0.00      0.00        71\n",
      "          41       0.00      0.00      0.00        61\n",
      "          42       0.00      0.00      0.00        62\n",
      "          43       0.00      0.00      0.00        63\n",
      "          44       0.00      0.00      0.00        80\n",
      "          45       0.00      0.00      0.00        50\n",
      "          46       0.00      0.00      0.00        58\n",
      "          47       0.00      0.00      0.00        68\n",
      "          48       0.00      0.00      0.00        66\n",
      "          49       0.00      0.00      0.00        65\n",
      "          50       0.00      0.00      0.00        52\n",
      "          51       0.10      0.82      0.19        39\n",
      "          52       0.01      0.02      0.01        66\n",
      "          53       0.00      0.00      0.00        80\n",
      "\n",
      "    accuracy                           0.05      3531\n",
      "   macro avg       0.03      0.06      0.02      3531\n",
      "weighted avg       0.03      0.05      0.01      3531\n",
      "\n",
      "F1 score 0.04927782497875956\n"
     ]
    }
   ],
   "source": [
    "fun(ad)"
   ]
  },
  {
   "cell_type": "code",
   "execution_count": 82,
   "metadata": {},
   "outputs": [
    {
     "name": "stdout",
     "output_type": "stream",
     "text": [
      "Accuracy Score 0.7737184933446616\n",
      "Confusion Matrix\n",
      " [[56  0  0 ...  0  0  0]\n",
      " [ 0 38  0 ...  0  0  0]\n",
      " [ 0  0 59 ...  0  0  0]\n",
      " ...\n",
      " [ 0  0  0 ... 39  0  0]\n",
      " [ 0  0  0 ...  0 60  0]\n",
      " [ 0  1  0 ...  0  0 49]]\n",
      "Classification Report\n",
      "               precision    recall  f1-score   support\n",
      "\n",
      "           0       0.73      0.80      0.76        70\n",
      "           1       0.60      0.69      0.64        55\n",
      "           2       0.91      0.89      0.90        66\n",
      "           3       0.79      0.77      0.78        69\n",
      "           4       0.89      0.93      0.91        61\n",
      "           5       0.76      0.61      0.68        72\n",
      "           6       0.97      0.96      0.97        78\n",
      "           7       0.73      0.72      0.72        75\n",
      "           8       0.97      0.93      0.95        70\n",
      "           9       0.75      0.71      0.73        66\n",
      "          10       0.59      0.63      0.61        76\n",
      "          11       0.79      0.80      0.80        71\n",
      "          12       0.84      0.86      0.85        57\n",
      "          13       0.61      0.62      0.61        63\n",
      "          14       0.68      0.82      0.74        62\n",
      "          15       0.92      0.94      0.93        52\n",
      "          16       0.83      0.65      0.73        68\n",
      "          17       0.78      0.79      0.78        62\n",
      "          18       0.79      0.76      0.78        66\n",
      "          19       0.60      0.68      0.63        68\n",
      "          20       0.75      0.75      0.75        72\n",
      "          21       0.65      0.59      0.62        68\n",
      "          22       0.97      0.97      0.97        70\n",
      "          23       0.69      0.74      0.71        74\n",
      "          24       0.63      0.59      0.61        56\n",
      "          25       0.96      0.97      0.96        68\n",
      "          26       0.65      0.69      0.67        62\n",
      "          27       0.80      0.64      0.71        64\n",
      "          28       0.94      0.88      0.91        69\n",
      "          29       1.00      0.92      0.96        52\n",
      "          30       0.92      0.73      0.82        67\n",
      "          31       0.50      0.59      0.54        63\n",
      "          32       0.79      0.83      0.81        59\n",
      "          33       0.68      0.86      0.76        58\n",
      "          34       0.77      0.83      0.80        82\n",
      "          35       0.92      0.97      0.95        71\n",
      "          36       0.81      0.65      0.72        72\n",
      "          37       0.71      0.74      0.72        68\n",
      "          38       0.72      0.77      0.74        62\n",
      "          39       0.64      0.68      0.66        66\n",
      "          40       0.78      0.85      0.81        71\n",
      "          41       0.68      0.79      0.73        61\n",
      "          42       0.90      0.92      0.91        62\n",
      "          43       0.81      0.75      0.78        63\n",
      "          44       0.75      0.74      0.74        80\n",
      "          45       0.92      0.96      0.94        50\n",
      "          46       0.93      0.97      0.95        58\n",
      "          47       0.77      0.68      0.72        68\n",
      "          48       0.83      0.65      0.73        66\n",
      "          49       0.55      0.71      0.62        65\n",
      "          50       0.44      0.44      0.44        52\n",
      "          51       1.00      1.00      1.00        39\n",
      "          52       0.97      0.91      0.94        66\n",
      "          53       0.78      0.61      0.69        80\n",
      "\n",
      "    accuracy                           0.77      3531\n",
      "   macro avg       0.78      0.78      0.78      3531\n",
      "weighted avg       0.78      0.77      0.77      3531\n",
      "\n",
      "F1 score 0.7737184933446616\n"
     ]
    }
   ],
   "source": [
    "fun(gd)"
   ]
  },
  {
   "cell_type": "markdown",
   "metadata": {},
   "source": [
    "# Cross Validation"
   ]
  },
  {
   "cell_type": "code",
   "execution_count": 83,
   "metadata": {},
   "outputs": [],
   "source": [
    "from sklearn.model_selection import cross_val_score\n",
    "from sklearn.model_selection import KFold"
   ]
  },
  {
   "cell_type": "code",
   "execution_count": 84,
   "metadata": {},
   "outputs": [
    {
     "name": "stdout",
     "output_type": "stream",
     "text": [
      "AT value of 2 0.07223375566267318\n",
      "AT value of 3 0.3415025757771675\n",
      "AT value of 4 0.4099404108523835\n",
      "AT value of 5 0.4629721535601708\n",
      "AT value of 6 0.46291300478255293\n",
      "AT value of 7 0.5026122252022627\n",
      "AT value of 8 0.5173980495998679\n",
      "AT value of 9 0.51836719299647\n"
     ]
    }
   ],
   "source": [
    "for i in range(2,10):\n",
    "    score=cross_val_score(svc1,x1,y1,cv=i)\n",
    "    print('AT value of',i,score.mean())"
   ]
  },
  {
   "cell_type": "code",
   "execution_count": 85,
   "metadata": {},
   "outputs": [
    {
     "data": {
      "text/plain": [
       "0.525400209817805"
      ]
     },
     "execution_count": 85,
     "metadata": {},
     "output_type": "execute_result"
    }
   ],
   "source": [
    "score=cross_val_score(svc1,x1,y1,cv=10)\n",
    "score.mean()"
   ]
  },
  {
   "cell_type": "code",
   "execution_count": 86,
   "metadata": {},
   "outputs": [
    {
     "data": {
      "text/plain": [
       "0.6387142403408417"
      ]
     },
     "execution_count": 86,
     "metadata": {},
     "output_type": "execute_result"
    }
   ],
   "source": [
    "score=cross_val_score(dtc,x1,y1,cv=10)\n",
    "score.mean()"
   ]
  },
  {
   "cell_type": "code",
   "execution_count": 87,
   "metadata": {},
   "outputs": [
    {
     "data": {
      "text/plain": [
       "0.45315673133375467"
      ]
     },
     "execution_count": 87,
     "metadata": {},
     "output_type": "execute_result"
    }
   ],
   "source": [
    "score=cross_val_score(knn1,x1,y1,cv=10)\n",
    "score.mean()"
   ]
  },
  {
   "cell_type": "code",
   "execution_count": 88,
   "metadata": {},
   "outputs": [
    {
     "data": {
      "text/plain": [
       "0.7806312179378183"
      ]
     },
     "execution_count": 88,
     "metadata": {},
     "output_type": "execute_result"
    }
   ],
   "source": [
    "score=cross_val_score(rf,x1,y1,cv=10)\n",
    "score.mean()"
   ]
  },
  {
   "cell_type": "code",
   "execution_count": 89,
   "metadata": {},
   "outputs": [
    {
     "data": {
      "text/plain": [
       "0.052462279314338514"
      ]
     },
     "execution_count": 89,
     "metadata": {},
     "output_type": "execute_result"
    }
   ],
   "source": [
    "score=cross_val_score(ad,x1,y1,cv=10)\n",
    "score.mean()"
   ]
  },
  {
   "cell_type": "code",
   "execution_count": 90,
   "metadata": {},
   "outputs": [
    {
     "data": {
      "text/plain": [
       "0.4500972412487688"
      ]
     },
     "execution_count": 90,
     "metadata": {},
     "output_type": "execute_result"
    }
   ],
   "source": [
    "score=cross_val_score(gd,x1,y1,cv=10)\n",
    "score.mean()"
   ]
  },
  {
   "cell_type": "markdown",
   "metadata": {},
   "source": [
    "# Saving Model"
   ]
  },
  {
   "cell_type": "code",
   "execution_count": 91,
   "metadata": {},
   "outputs": [],
   "source": [
    "import pickle\n",
    "filename='Avacado_Classi_Prediction.pkl'\n",
    "pickle.dump(rf,open(filename,'wb'))"
   ]
  },
  {
   "cell_type": "code",
   "execution_count": 92,
   "metadata": {},
   "outputs": [
    {
     "name": "stdout",
     "output_type": "stream",
     "text": [
      "       Actual  Predict\n",
      "8701       18       18\n",
      "1227       23       23\n",
      "17773      14       14\n",
      "12338       7        7\n",
      "12862      17       17\n",
      "...       ...      ...\n",
      "15787      19       19\n",
      "12768      16       16\n",
      "7219       30       30\n",
      "3328       10       10\n",
      "2754       52       52\n",
      "\n",
      "[3531 rows x 2 columns]\n"
     ]
    }
   ],
   "source": [
    "res=pd.DataFrame()\n",
    "res['Actual']=y1_test\n",
    "res['Predict']=rf.predict(x1_test)\n",
    "\n",
    "print(res)"
   ]
  },
  {
   "cell_type": "markdown",
   "metadata": {},
   "source": [
    "# Consider Target Variable as AveragePrice Consider Regressior Problem"
   ]
  },
  {
   "cell_type": "code",
   "execution_count": 93,
   "metadata": {},
   "outputs": [
    {
     "data": {
      "text/html": [
       "<div>\n",
       "<style scoped>\n",
       "    .dataframe tbody tr th:only-of-type {\n",
       "        vertical-align: middle;\n",
       "    }\n",
       "\n",
       "    .dataframe tbody tr th {\n",
       "        vertical-align: top;\n",
       "    }\n",
       "\n",
       "    .dataframe thead th {\n",
       "        text-align: right;\n",
       "    }\n",
       "</style>\n",
       "<table border=\"1\" class=\"dataframe\">\n",
       "  <thead>\n",
       "    <tr style=\"text-align: right;\">\n",
       "      <th></th>\n",
       "      <th>Unnamed: 0</th>\n",
       "      <th>Date</th>\n",
       "      <th>AveragePrice</th>\n",
       "      <th>4046</th>\n",
       "      <th>4225</th>\n",
       "      <th>4770</th>\n",
       "      <th>Small Bags</th>\n",
       "      <th>Large Bags</th>\n",
       "      <th>XLarge Bags</th>\n",
       "      <th>type</th>\n",
       "      <th>year</th>\n",
       "      <th>region</th>\n",
       "      <th>month</th>\n",
       "    </tr>\n",
       "  </thead>\n",
       "  <tbody>\n",
       "    <tr>\n",
       "      <th>0</th>\n",
       "      <td>0</td>\n",
       "      <td>51</td>\n",
       "      <td>1.33</td>\n",
       "      <td>32.198447</td>\n",
       "      <td>233.355630</td>\n",
       "      <td>6.939741</td>\n",
       "      <td>92.755701</td>\n",
       "      <td>9.656604</td>\n",
       "      <td>0.0</td>\n",
       "      <td>0</td>\n",
       "      <td>2015</td>\n",
       "      <td>0</td>\n",
       "      <td>3</td>\n",
       "    </tr>\n",
       "    <tr>\n",
       "      <th>1</th>\n",
       "      <td>1</td>\n",
       "      <td>50</td>\n",
       "      <td>1.35</td>\n",
       "      <td>25.966902</td>\n",
       "      <td>211.278986</td>\n",
       "      <td>7.637408</td>\n",
       "      <td>96.995206</td>\n",
       "      <td>9.873702</td>\n",
       "      <td>0.0</td>\n",
       "      <td>0</td>\n",
       "      <td>2015</td>\n",
       "      <td>0</td>\n",
       "      <td>3</td>\n",
       "    </tr>\n",
       "    <tr>\n",
       "      <th>2</th>\n",
       "      <td>2</td>\n",
       "      <td>49</td>\n",
       "      <td>0.93</td>\n",
       "      <td>28.190424</td>\n",
       "      <td>330.378071</td>\n",
       "      <td>11.423660</td>\n",
       "      <td>89.678370</td>\n",
       "      <td>10.155787</td>\n",
       "      <td>0.0</td>\n",
       "      <td>0</td>\n",
       "      <td>2015</td>\n",
       "      <td>0</td>\n",
       "      <td>3</td>\n",
       "    </tr>\n",
       "    <tr>\n",
       "      <th>3</th>\n",
       "      <td>3</td>\n",
       "      <td>48</td>\n",
       "      <td>1.08</td>\n",
       "      <td>33.645208</td>\n",
       "      <td>268.284196</td>\n",
       "      <td>8.519390</td>\n",
       "      <td>75.348524</td>\n",
       "      <td>11.565466</td>\n",
       "      <td>0.0</td>\n",
       "      <td>0</td>\n",
       "      <td>2015</td>\n",
       "      <td>0</td>\n",
       "      <td>3</td>\n",
       "    </tr>\n",
       "    <tr>\n",
       "      <th>4</th>\n",
       "      <td>4</td>\n",
       "      <td>47</td>\n",
       "      <td>1.28</td>\n",
       "      <td>30.683546</td>\n",
       "      <td>209.376193</td>\n",
       "      <td>8.705171</td>\n",
       "      <td>77.370925</td>\n",
       "      <td>14.060228</td>\n",
       "      <td>0.0</td>\n",
       "      <td>0</td>\n",
       "      <td>2015</td>\n",
       "      <td>0</td>\n",
       "      <td>3</td>\n",
       "    </tr>\n",
       "    <tr>\n",
       "      <th>...</th>\n",
       "      <td>...</td>\n",
       "      <td>...</td>\n",
       "      <td>...</td>\n",
       "      <td>...</td>\n",
       "      <td>...</td>\n",
       "      <td>...</td>\n",
       "      <td>...</td>\n",
       "      <td>...</td>\n",
       "      <td>...</td>\n",
       "      <td>...</td>\n",
       "      <td>...</td>\n",
       "      <td>...</td>\n",
       "      <td>...</td>\n",
       "    </tr>\n",
       "    <tr>\n",
       "      <th>18244</th>\n",
       "      <td>7</td>\n",
       "      <td>161</td>\n",
       "      <td>1.63</td>\n",
       "      <td>45.243342</td>\n",
       "      <td>39.104987</td>\n",
       "      <td>0.000000</td>\n",
       "      <td>114.310192</td>\n",
       "      <td>20.781001</td>\n",
       "      <td>0.0</td>\n",
       "      <td>1</td>\n",
       "      <td>2018</td>\n",
       "      <td>53</td>\n",
       "      <td>1</td>\n",
       "    </tr>\n",
       "    <tr>\n",
       "      <th>18245</th>\n",
       "      <td>8</td>\n",
       "      <td>160</td>\n",
       "      <td>1.71</td>\n",
       "      <td>34.521008</td>\n",
       "      <td>58.579006</td>\n",
       "      <td>0.000000</td>\n",
       "      <td>94.551785</td>\n",
       "      <td>18.022209</td>\n",
       "      <td>0.0</td>\n",
       "      <td>1</td>\n",
       "      <td>2018</td>\n",
       "      <td>53</td>\n",
       "      <td>1</td>\n",
       "    </tr>\n",
       "    <tr>\n",
       "      <th>18246</th>\n",
       "      <td>9</td>\n",
       "      <td>159</td>\n",
       "      <td>1.87</td>\n",
       "      <td>34.524194</td>\n",
       "      <td>49.525650</td>\n",
       "      <td>26.980363</td>\n",
       "      <td>96.704705</td>\n",
       "      <td>6.504614</td>\n",
       "      <td>0.0</td>\n",
       "      <td>1</td>\n",
       "      <td>2018</td>\n",
       "      <td>53</td>\n",
       "      <td>1</td>\n",
       "    </tr>\n",
       "    <tr>\n",
       "      <th>18247</th>\n",
       "      <td>10</td>\n",
       "      <td>158</td>\n",
       "      <td>1.93</td>\n",
       "      <td>39.084908</td>\n",
       "      <td>54.598901</td>\n",
       "      <td>26.963123</td>\n",
       "      <td>104.496603</td>\n",
       "      <td>7.071068</td>\n",
       "      <td>0.0</td>\n",
       "      <td>1</td>\n",
       "      <td>2018</td>\n",
       "      <td>53</td>\n",
       "      <td>1</td>\n",
       "    </tr>\n",
       "    <tr>\n",
       "      <th>18248</th>\n",
       "      <td>11</td>\n",
       "      <td>157</td>\n",
       "      <td>1.62</td>\n",
       "      <td>53.803067</td>\n",
       "      <td>48.539984</td>\n",
       "      <td>14.984325</td>\n",
       "      <td>109.490365</td>\n",
       "      <td>5.100000</td>\n",
       "      <td>0.0</td>\n",
       "      <td>1</td>\n",
       "      <td>2018</td>\n",
       "      <td>53</td>\n",
       "      <td>1</td>\n",
       "    </tr>\n",
       "  </tbody>\n",
       "</table>\n",
       "<p>17651 rows × 13 columns</p>\n",
       "</div>"
      ],
      "text/plain": [
       "       Unnamed: 0  Date  AveragePrice       4046        4225       4770  \\\n",
       "0               0    51          1.33  32.198447  233.355630   6.939741   \n",
       "1               1    50          1.35  25.966902  211.278986   7.637408   \n",
       "2               2    49          0.93  28.190424  330.378071  11.423660   \n",
       "3               3    48          1.08  33.645208  268.284196   8.519390   \n",
       "4               4    47          1.28  30.683546  209.376193   8.705171   \n",
       "...           ...   ...           ...        ...         ...        ...   \n",
       "18244           7   161          1.63  45.243342   39.104987   0.000000   \n",
       "18245           8   160          1.71  34.521008   58.579006   0.000000   \n",
       "18246           9   159          1.87  34.524194   49.525650  26.980363   \n",
       "18247          10   158          1.93  39.084908   54.598901  26.963123   \n",
       "18248          11   157          1.62  53.803067   48.539984  14.984325   \n",
       "\n",
       "       Small Bags  Large Bags  XLarge Bags  type  year  region  month  \n",
       "0       92.755701    9.656604          0.0     0  2015       0      3  \n",
       "1       96.995206    9.873702          0.0     0  2015       0      3  \n",
       "2       89.678370   10.155787          0.0     0  2015       0      3  \n",
       "3       75.348524   11.565466          0.0     0  2015       0      3  \n",
       "4       77.370925   14.060228          0.0     0  2015       0      3  \n",
       "...           ...         ...          ...   ...   ...     ...    ...  \n",
       "18244  114.310192   20.781001          0.0     1  2018      53      1  \n",
       "18245   94.551785   18.022209          0.0     1  2018      53      1  \n",
       "18246   96.704705    6.504614          0.0     1  2018      53      1  \n",
       "18247  104.496603    7.071068          0.0     1  2018      53      1  \n",
       "18248  109.490365    5.100000          0.0     1  2018      53      1  \n",
       "\n",
       "[17651 rows x 13 columns]"
      ]
     },
     "execution_count": 93,
     "metadata": {},
     "output_type": "execute_result"
    }
   ],
   "source": [
    "df"
   ]
  },
  {
   "cell_type": "code",
   "execution_count": 94,
   "metadata": {},
   "outputs": [],
   "source": [
    "x2=df.drop(['Unnamed: 0','Date','AveragePrice'],axis=1)\n",
    "y2=df['AveragePrice']"
   ]
  },
  {
   "cell_type": "code",
   "execution_count": 95,
   "metadata": {},
   "outputs": [
    {
     "data": {
      "text/plain": [
       "(17651, 10)"
      ]
     },
     "execution_count": 95,
     "metadata": {},
     "output_type": "execute_result"
    }
   ],
   "source": [
    "x2.shape"
   ]
  },
  {
   "cell_type": "markdown",
   "metadata": {},
   "source": [
    "# Standard Scaler"
   ]
  },
  {
   "cell_type": "code",
   "execution_count": 96,
   "metadata": {},
   "outputs": [],
   "source": [
    "X2=std.fit_transform(x2)"
   ]
  },
  {
   "cell_type": "code",
   "execution_count": 97,
   "metadata": {},
   "outputs": [],
   "source": [
    "x2=X2"
   ]
  },
  {
   "cell_type": "code",
   "execution_count": 98,
   "metadata": {},
   "outputs": [],
   "source": [
    "from sklearn.linear_model import LinearRegression\n",
    "from sklearn.metrics import mean_squared_error,mean_absolute_error,accuracy_score,r2_score"
   ]
  },
  {
   "cell_type": "code",
   "execution_count": 99,
   "metadata": {},
   "outputs": [],
   "source": [
    "ln=LinearRegression()"
   ]
  },
  {
   "cell_type": "markdown",
   "metadata": {},
   "source": [
    "# Random State Selection"
   ]
  },
  {
   "cell_type": "code",
   "execution_count": 100,
   "metadata": {},
   "outputs": [
    {
     "name": "stdout",
     "output_type": "stream",
     "text": [
      "At Random score 30 Model Performance is very well\n",
      "Random stata is: 30\n",
      "Train Score 44.69545814257398\n",
      "Test Score 44.69163950674323\n",
      "At Random score 81 Model Performance is very well\n",
      "Random stata is: 81\n",
      "Train Score 44.70900017110886\n",
      "Test Score 44.68612890670948\n"
     ]
    }
   ],
   "source": [
    "for i in range(0,100):\n",
    "    x2_train,x2_test,y2_train,y2_test=train_test_split(x2,y2,random_state=i,test_size=0.20)\n",
    "    ln.fit(x2_train,y2_train)\n",
    "    pred_train=ln.predict(x2_train)\n",
    "    pred_test=ln.predict(x2_test)\n",
    "    if round(r2_score(y2_train,pred_train)*100,1)==round(r2_score(y2_test,pred_test)*100,1):\n",
    "        print(\"At Random score\",i,\"Model Performance is very well\")\n",
    "        print(\"Random stata is:\",i)\n",
    "        print(\"Train Score\",r2_score(y2_train,pred_train)*100)\n",
    "        print(\"Test Score\",r2_score(y2_test,pred_test)*100)"
   ]
  },
  {
   "cell_type": "code",
   "execution_count": 101,
   "metadata": {},
   "outputs": [],
   "source": [
    "x2_train,x2_test,y2_train,y2_test=train_test_split(x2,y2,random_state=81,test_size=0.20)"
   ]
  },
  {
   "cell_type": "code",
   "execution_count": 102,
   "metadata": {},
   "outputs": [],
   "source": [
    "from sklearn.tree import DecisionTreeRegressor\n",
    "from sklearn.svm import SVR\n",
    "from sklearn.neighbors import KNeighborsRegressor\n",
    "from sklearn.model_selection import GridSearchCV"
   ]
  },
  {
   "cell_type": "code",
   "execution_count": 103,
   "metadata": {},
   "outputs": [],
   "source": [
    "svr=SVR()\n",
    "svrl=SVR(kernel='linear')\n",
    "svrp=SVR(kernel='poly')\n",
    "knn=KNeighborsRegressor()\n",
    "dtc=DecisionTreeRegressor()"
   ]
  },
  {
   "cell_type": "code",
   "execution_count": 104,
   "metadata": {},
   "outputs": [],
   "source": [
    "def fun2(f):\n",
    "    f.fit(x2_train,y2_train)\n",
    "    pred=f.predict(x2_test)\n",
    "    print('Taining Score:-',f.score(x2_train,y2_train)*100)\n",
    "    print('Mean Absolute Error',mean_absolute_error(y2_test,pred))\n",
    "    print('Mean Squared Error',mean_squared_error(y2_test,pred))\n",
    "    print('Root Mean Squared Erro',np.sqrt(mean_squared_error(y2_test,pred)))\n",
    "    print('R2 Score',r2_score(y2_test,pred))"
   ]
  },
  {
   "cell_type": "code",
   "execution_count": 144,
   "metadata": {},
   "outputs": [
    {
     "name": "stdout",
     "output_type": "stream",
     "text": [
      "Taining Score:- 44.70900017110886\n",
      "Mean Absolute Error 0.22750722246621158\n",
      "Mean Squared Error 0.0829314304228294\n",
      "Root Mean Squared Erro 0.2879781769906001\n",
      "R2 Score 0.44686128906709477\n"
     ]
    }
   ],
   "source": [
    "fun2(ln)"
   ]
  },
  {
   "cell_type": "code",
   "execution_count": 105,
   "metadata": {},
   "outputs": [
    {
     "name": "stdout",
     "output_type": "stream",
     "text": [
      "Taining Score:- 72.84684174450675\n",
      "Mean Absolute Error 0.15436594289878777\n",
      "Mean Squared Error 0.0428396433868549\n",
      "Root Mean Squared Erro 0.20697739825124603\n",
      "R2 Score 0.7142667743819939\n"
     ]
    }
   ],
   "source": [
    "fun2(svr)"
   ]
  },
  {
   "cell_type": "code",
   "execution_count": 106,
   "metadata": {},
   "outputs": [
    {
     "name": "stdout",
     "output_type": "stream",
     "text": [
      "Taining Score:- 44.48057040024212\n",
      "Mean Absolute Error 0.22685820971508616\n",
      "Mean Squared Error 0.08316685720610208\n",
      "Root Mean Squared Erro 0.2883866453324461\n",
      "R2 Score 0.4452910319672886\n"
     ]
    }
   ],
   "source": [
    "fun2(svrl)"
   ]
  },
  {
   "cell_type": "code",
   "execution_count": 107,
   "metadata": {},
   "outputs": [
    {
     "name": "stdout",
     "output_type": "stream",
     "text": [
      "Taining Score:- 54.033221243333344\n",
      "Mean Absolute Error 0.20332553940726023\n",
      "Mean Squared Error 0.07083657108952866\n",
      "Root Mean Squared Erro 0.2661514063264154\n",
      "R2 Score 0.5275319692474179\n"
     ]
    }
   ],
   "source": [
    "fun2(svrp)"
   ]
  },
  {
   "cell_type": "code",
   "execution_count": 108,
   "metadata": {},
   "outputs": [
    {
     "name": "stdout",
     "output_type": "stream",
     "text": [
      "Taining Score:- 100.0\n",
      "Mean Absolute Error 0.13324553950722176\n",
      "Mean Squared Error 0.042086179552534686\n",
      "Root Mean Squared Erro 0.20514916415265913\n",
      "R2 Score 0.719292251597635\n"
     ]
    }
   ],
   "source": [
    "fun2(dtc)"
   ]
  },
  {
   "cell_type": "code",
   "execution_count": 109,
   "metadata": {},
   "outputs": [
    {
     "name": "stdout",
     "output_type": "stream",
     "text": [
      "Taining Score:- 91.06311550186463\n",
      "Mean Absolute Error 0.1045800056641178\n",
      "Mean Squared Error 0.022167791560464455\n",
      "Root Mean Squared Erro 0.148888520579877\n",
      "R2 Score 0.8521445538143136\n"
     ]
    }
   ],
   "source": [
    "fun2(knn)"
   ]
  },
  {
   "cell_type": "markdown",
   "metadata": {},
   "source": [
    "# Ensemble Method"
   ]
  },
  {
   "cell_type": "code",
   "execution_count": 110,
   "metadata": {},
   "outputs": [],
   "source": [
    "from sklearn.ensemble import RandomForestRegressor,AdaBoostRegressor,GradientBoostingRegressor"
   ]
  },
  {
   "cell_type": "code",
   "execution_count": 111,
   "metadata": {},
   "outputs": [],
   "source": [
    "rf2=RandomForestRegressor()\n",
    "ad2=AdaBoostRegressor()\n",
    "gd2=GradientBoostingRegressor()"
   ]
  },
  {
   "cell_type": "code",
   "execution_count": 112,
   "metadata": {},
   "outputs": [
    {
     "name": "stdout",
     "output_type": "stream",
     "text": [
      "Taining Score:- 98.14662923878277\n",
      "Mean Absolute Error 0.10066207873123761\n",
      "Mean Squared Error 0.02042833857264231\n",
      "Root Mean Squared Erro 0.14292773898947086\n",
      "R2 Score 0.8637464130672738\n"
     ]
    }
   ],
   "source": [
    "fun2(rf2)"
   ]
  },
  {
   "cell_type": "code",
   "execution_count": 113,
   "metadata": {},
   "outputs": [
    {
     "name": "stdout",
     "output_type": "stream",
     "text": [
      "Taining Score:- 52.96640485451445\n",
      "Mean Absolute Error 0.21757564127207515\n",
      "Mean Squared Error 0.07172186632126888\n",
      "Root Mean Squared Erro 0.2678093843039651\n",
      "R2 Score 0.5216271987546972\n"
     ]
    }
   ],
   "source": [
    "fun2(ad2)"
   ]
  },
  {
   "cell_type": "code",
   "execution_count": 114,
   "metadata": {},
   "outputs": [
    {
     "name": "stdout",
     "output_type": "stream",
     "text": [
      "Taining Score:- 73.26929731712168\n",
      "Mean Absolute Error 0.15764828474030881\n",
      "Mean Squared Error 0.04146442080425098\n",
      "Root Mean Squared Erro 0.20362814344842164\n",
      "R2 Score 0.7234392780119079\n"
     ]
    }
   ],
   "source": [
    "fun2(gd2)"
   ]
  },
  {
   "cell_type": "markdown",
   "metadata": {},
   "source": [
    "# Regulization"
   ]
  },
  {
   "cell_type": "code",
   "execution_count": 115,
   "metadata": {},
   "outputs": [],
   "source": [
    "from sklearn.linear_model import Lasso,Ridge,ElasticNet"
   ]
  },
  {
   "cell_type": "code",
   "execution_count": 116,
   "metadata": {},
   "outputs": [],
   "source": [
    "ls=Lasso(alpha=0.0001,normalize=False)\n",
    "rd=Ridge(alpha=0.0001)\n",
    "es=ElasticNet(alpha=0.0001)"
   ]
  },
  {
   "cell_type": "code",
   "execution_count": 117,
   "metadata": {},
   "outputs": [
    {
     "name": "stdout",
     "output_type": "stream",
     "text": [
      "Taining Score:- 44.70875394566328\n",
      "Mean Absolute Error 0.22749460543155908\n",
      "Mean Squared Error 0.08293181894700867\n",
      "Root Mean Squared Erro 0.28797885156206987\n",
      "R2 Score 0.44685869767607944\n"
     ]
    }
   ],
   "source": [
    "fun2(ls)"
   ]
  },
  {
   "cell_type": "code",
   "execution_count": 118,
   "metadata": {},
   "outputs": [
    {
     "name": "stdout",
     "output_type": "stream",
     "text": [
      "Taining Score:- 44.70900017110886\n",
      "Mean Absolute Error 0.22750722245405658\n",
      "Mean Squared Error 0.0829314304270996\n",
      "Root Mean Squared Erro 0.2879781769980142\n",
      "R2 Score 0.4468612890386132\n"
     ]
    }
   ],
   "source": [
    "fun2(rd)"
   ]
  },
  {
   "cell_type": "code",
   "execution_count": 119,
   "metadata": {},
   "outputs": [
    {
     "name": "stdout",
     "output_type": "stream",
     "text": [
      "Taining Score:- 44.70893068019536\n",
      "Mean Absolute Error 0.2275006900520423\n",
      "Mean Squared Error 0.08293157291541237\n",
      "Root Mean Squared Erro 0.28797842439219706\n",
      "R2 Score 0.4468603386655009\n"
     ]
    }
   ],
   "source": [
    "fun2(es)"
   ]
  },
  {
   "cell_type": "markdown",
   "metadata": {},
   "source": [
    "# Hyper Tunning"
   ]
  },
  {
   "cell_type": "markdown",
   "metadata": {},
   "source": [
    "RandomForestRegressor"
   ]
  },
  {
   "cell_type": "code",
   "execution_count": 120,
   "metadata": {},
   "outputs": [],
   "source": [
    "p2={'criterion':['mse','absolute_error','possion'],'n_estimators':[10,50,75,100,200,250,500],'max_features':['auto','log2','sqrt'],'bootstrap':['True','False']}"
   ]
  },
  {
   "cell_type": "code",
   "execution_count": 121,
   "metadata": {},
   "outputs": [
    {
     "data": {
      "text/plain": [
       "GridSearchCV(estimator=RandomForestRegressor(),\n",
       "             param_grid={'bootstrap': ['True', 'False'],\n",
       "                         'criterion': ['mse', 'absolute_error', 'possion'],\n",
       "                         'max_features': ['auto', 'log2', 'sqrt'],\n",
       "                         'n_estimators': [10, 50, 75, 100, 200, 250, 500]})"
      ]
     },
     "execution_count": 121,
     "metadata": {},
     "output_type": "execute_result"
    }
   ],
   "source": [
    "gd2=GridSearchCV(rf2,p2)\n",
    "gd2.fit(x2,y2)"
   ]
  },
  {
   "cell_type": "code",
   "execution_count": 122,
   "metadata": {},
   "outputs": [
    {
     "name": "stdout",
     "output_type": "stream",
     "text": [
      "{'bootstrap': 'False', 'criterion': 'mse', 'max_features': 'log2', 'n_estimators': 500}\n"
     ]
    }
   ],
   "source": [
    "print(gd2.best_params_)"
   ]
  },
  {
   "cell_type": "code",
   "execution_count": 123,
   "metadata": {},
   "outputs": [],
   "source": [
    "rf22=RandomForestRegressor(criterion='mse',n_estimators=500,max_features='log2',bootstrap=True)"
   ]
  },
  {
   "cell_type": "code",
   "execution_count": 124,
   "metadata": {},
   "outputs": [
    {
     "name": "stdout",
     "output_type": "stream",
     "text": [
      "Taining Score:- 98.25509973338431\n",
      "Mean Absolute Error 0.09891766071934309\n",
      "Mean Squared Error 0.019089340732143897\n",
      "Root Mean Squared Erro 0.13816418035129038\n",
      "R2 Score 0.8726773037520118\n"
     ]
    }
   ],
   "source": [
    "fun2(rf22)"
   ]
  },
  {
   "cell_type": "markdown",
   "metadata": {},
   "source": [
    "KNeighborsRegressor"
   ]
  },
  {
   "cell_type": "code",
   "execution_count": 125,
   "metadata": {},
   "outputs": [],
   "source": [
    "p3={'n_neighbors':[1,2,3,4,5],'weights':['uniform','distance'],'algorithm':['auto','ball_tree','kd_tree','brute'],'p':[1,2]}"
   ]
  },
  {
   "cell_type": "code",
   "execution_count": 126,
   "metadata": {},
   "outputs": [],
   "source": [
    "gd3=GridSearchCV(knn,p3)"
   ]
  },
  {
   "cell_type": "code",
   "execution_count": 127,
   "metadata": {},
   "outputs": [
    {
     "data": {
      "text/plain": [
       "GridSearchCV(estimator=KNeighborsRegressor(),\n",
       "             param_grid={'algorithm': ['auto', 'ball_tree', 'kd_tree', 'brute'],\n",
       "                         'n_neighbors': [1, 2, 3, 4, 5], 'p': [1, 2],\n",
       "                         'weights': ['uniform', 'distance']})"
      ]
     },
     "execution_count": 127,
     "metadata": {},
     "output_type": "execute_result"
    }
   ],
   "source": [
    "gd3.fit(x2,y2)"
   ]
  },
  {
   "cell_type": "code",
   "execution_count": 128,
   "metadata": {},
   "outputs": [
    {
     "name": "stdout",
     "output_type": "stream",
     "text": [
      "{'algorithm': 'auto', 'n_neighbors': 5, 'p': 2, 'weights': 'uniform'}\n"
     ]
    }
   ],
   "source": [
    "print(gd3.best_params_)"
   ]
  },
  {
   "cell_type": "code",
   "execution_count": 129,
   "metadata": {},
   "outputs": [],
   "source": [
    "knn2=KNeighborsRegressor(n_neighbors=5,algorithm='auto',p=2,weights='uniform')"
   ]
  },
  {
   "cell_type": "code",
   "execution_count": 130,
   "metadata": {},
   "outputs": [
    {
     "name": "stdout",
     "output_type": "stream",
     "text": [
      "Taining Score:- 91.06311550186463\n",
      "Mean Absolute Error 0.1045800056641178\n",
      "Mean Squared Error 0.022167791560464455\n",
      "Root Mean Squared Erro 0.148888520579877\n",
      "R2 Score 0.8521445538143136\n"
     ]
    }
   ],
   "source": [
    "fun2(knn2)"
   ]
  },
  {
   "cell_type": "markdown",
   "metadata": {},
   "source": [
    "# Cross Validation"
   ]
  },
  {
   "cell_type": "code",
   "execution_count": 131,
   "metadata": {},
   "outputs": [],
   "source": [
    "from sklearn.model_selection import cross_val_score"
   ]
  },
  {
   "cell_type": "code",
   "execution_count": 132,
   "metadata": {},
   "outputs": [
    {
     "name": "stdout",
     "output_type": "stream",
     "text": [
      "At the CV= 2 Score= -0.6836998616689709\n",
      "At the CV= 3 Score= 0.015017099420383428\n",
      "At the CV= 4 Score= 0.1315573860006614\n",
      "At the CV= 5 Score= 0.12374480336366216\n",
      "At the CV= 6 Score= 0.15933282048681582\n",
      "At the CV= 7 Score= 0.16931556525386535\n",
      "At the CV= 8 Score= 0.2439139726439668\n",
      "At the CV= 9 Score= 0.23989487960672268\n",
      "At the CV= 10 Score= 0.26661510042578973\n"
     ]
    }
   ],
   "source": [
    "for i in range(2,11):\n",
    "    score=cross_val_score(svr,x2,y2,cv=i)\n",
    "    print(\"At the CV=\",i,'Score=',score.mean())"
   ]
  },
  {
   "cell_type": "code",
   "execution_count": 133,
   "metadata": {},
   "outputs": [
    {
     "name": "stdout",
     "output_type": "stream",
     "text": [
      "0.003385268471764247\n"
     ]
    }
   ],
   "source": [
    "score=cross_val_score(svrl,x2,y2,cv=10)\n",
    "print(score.mean())"
   ]
  },
  {
   "cell_type": "code",
   "execution_count": 134,
   "metadata": {},
   "outputs": [
    {
     "name": "stdout",
     "output_type": "stream",
     "text": [
      "-0.19966735183760578\n"
     ]
    }
   ],
   "source": [
    "score=cross_val_score(dtc,x2,y2,cv=10)\n",
    "print(score.mean())"
   ]
  },
  {
   "cell_type": "code",
   "execution_count": 135,
   "metadata": {},
   "outputs": [
    {
     "name": "stdout",
     "output_type": "stream",
     "text": [
      "-0.1832417137193231\n"
     ]
    }
   ],
   "source": [
    "score=cross_val_score(knn2,x2,y2,cv=10)\n",
    "print(score.mean())"
   ]
  },
  {
   "cell_type": "code",
   "execution_count": 136,
   "metadata": {},
   "outputs": [
    {
     "name": "stdout",
     "output_type": "stream",
     "text": [
      "0.46351278024873543\n"
     ]
    }
   ],
   "source": [
    "score=cross_val_score(rf22,x2,y2,cv=25)\n",
    "print(score.mean())"
   ]
  },
  {
   "cell_type": "code",
   "execution_count": 140,
   "metadata": {},
   "outputs": [
    {
     "name": "stdout",
     "output_type": "stream",
     "text": [
      "0.007933666100100567\n"
     ]
    }
   ],
   "source": [
    "score=cross_val_score(ls,x2,y2,cv=10)\n",
    "print(score.mean())"
   ]
  },
  {
   "cell_type": "code",
   "execution_count": 141,
   "metadata": {},
   "outputs": [
    {
     "name": "stdout",
     "output_type": "stream",
     "text": [
      "0.007685483971037954\n"
     ]
    }
   ],
   "source": [
    "score=cross_val_score(rd,x2,y2,cv=10)\n",
    "print(score.mean())"
   ]
  },
  {
   "cell_type": "markdown",
   "metadata": {},
   "source": [
    "# Saving Model"
   ]
  },
  {
   "cell_type": "code",
   "execution_count": 142,
   "metadata": {},
   "outputs": [],
   "source": [
    "import pickle\n",
    "filename='Avacado Regressor Prediction.pkl'\n",
    "pickle.dump(rf22,open(filename,'wb'))"
   ]
  },
  {
   "cell_type": "markdown",
   "metadata": {},
   "source": [
    "# Conclusion"
   ]
  },
  {
   "cell_type": "code",
   "execution_count": 150,
   "metadata": {},
   "outputs": [
    {
     "name": "stdout",
     "output_type": "stream",
     "text": [
      "       Actual  Predict\n",
      "16587    1.41  1.51204\n",
      "7842     0.92  1.27804\n",
      "4125     1.30  1.21408\n",
      "2965     1.02  1.10650\n",
      "10384    1.51  1.54822\n",
      "...       ...      ...\n",
      "12179    1.73  1.51358\n",
      "9316     1.55  1.54570\n",
      "12222    1.54  1.58070\n",
      "14550    1.39  1.42778\n",
      "1507     1.09  1.21578\n",
      "\n",
      "[3531 rows x 2 columns]\n"
     ]
    },
    {
     "data": {
      "text/plain": [
       "Text(0.5, 1.0, 'Random Forest Regressor Line')"
      ]
     },
     "execution_count": 150,
     "metadata": {},
     "output_type": "execute_result"
    },
    {
     "data": {
      "image/png": "[encoded data removed]",
      "text/plain": [
       "<Figure size 432x288 with 1 Axes>"
      ]
     },
     "metadata": {},
     "output_type": "display_data"
    }
   ],
   "source": [
    "rs=pd.DataFrame()\n",
    "rs['Actual']=y2_test\n",
    "rs['Predict']=rf22.predict(x2_test)\n",
    "\n",
    "rs\n",
    "\n",
    "print(rs)\n",
    "x=np.array(y2_test)\n",
    "y=np.array(rf22.predict(x2_test))\n",
    "\n",
    "sns.scatterplot(x,y)\n",
    "\n",
    "m,b=np.polyfit(x,y,1)\n",
    "\n",
    "plt.plot(x,m*x+b,color='red')\n",
    "plt.xlabel('Regressor Line')\n",
    "plt.title('Random Forest Regressor Line')"
   ]
  },
  {
   "cell_type": "code",
   "execution_count": null,
   "metadata": {},
   "outputs": [],
   "source": []
  }
 ],
 "metadata": {
  "kernelspec": {
   "display_name": "Python 3",
   "language": "python",
   "name": "python3"
  },
  "language_info": {
   "codemirror_mode": {
    "name": "ipython",
    "version": 3
   },
   "file_extension": ".py",
   "mimetype": "text/x-python",
   "name": "python",
   "nbconvert_exporter": "python",
   "pygments_lexer": "ipython3",
   "version": "3.8.5"
  }
 },
 "nbformat": 4,
 "nbformat_minor": 4
}
